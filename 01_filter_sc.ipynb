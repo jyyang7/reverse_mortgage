{
 "cells": [
  {
   "cell_type": "code",
   "execution_count": null,
   "metadata": {},
   "outputs": [],
   "source": [
    "import pandas as pd"
   ]
  },
  {
   "cell_type": "markdown",
   "metadata": {},
   "source": [
    "# South Carolina"
   ]
  },
  {
   "cell_type": "markdown",
   "metadata": {},
   "source": [
    "## reverse mortgage"
   ]
  },
  {
   "cell_type": "code",
   "execution_count": null,
   "metadata": {},
   "outputs": [],
   "source": [
    "#read csv\n",
    "\n",
    "sc_all_2021 = pd.read_csv('./all_mortgage_data/sc_all_2021_originated.csv', dtype={\n",
    "    'county_code': str,\n",
    "    'census_tract': str\n",
    "})\n",
    "\n",
    "# filter to reverse mortgage\n",
    "\n",
    "rm_sc_all_2021 = sc_all_2021[(sc_all_2021['reverse_mortgage'] == 1)]\n",
    "\n",
    "\n",
    "# export to csv\n",
    "\n",
    "rm_sc_all_2021.to_csv('./reverse_mortgage_data/south_carolina/rm_sc_all_2021.csv', index=False)\n"
   ]
  },
  {
   "cell_type": "code",
   "execution_count": null,
   "metadata": {},
   "outputs": [],
   "source": [
    "rm_sc_all_2021.info()"
   ]
  },
  {
   "cell_type": "markdown",
   "metadata": {},
   "source": [
    "## census"
   ]
  },
  {
   "cell_type": "code",
   "execution_count": null,
   "metadata": {},
   "outputs": [],
   "source": [
    "# read census csv\n",
    "\n",
    "acs2021 = pd.read_csv('./census_data/acs_2021_sc.csv')\n",
    "\n",
    "# drop the second header row\n",
    "\n",
    "acs2021 = acs2021.drop([0])\n",
    "\n",
    "# subset to population data\n",
    "\n",
    "acs_2021_race = acs2021[['GEO_ID', 'NAME', 'DP05_0001E', 'DP05_0071E', 'DP05_0078E']]\n",
    "\n",
    "# rename columns\n",
    "\n",
    "acs_2021_race.columns = ['geo_id', 'tract_name', 'population', 'hispanic_pp', 'black_pp']\n",
    "\n",
    "# split geo_id column\n",
    "\n",
    "tract_code = acs_2021_race['geo_id'].str.split(pat='US', expand=True)\n",
    "\n",
    "# insert the census_tract column\n",
    "\n",
    "acs_2021_race.insert(loc = 1, column='census_tract', value=tract_code[1])\n",
    "\n",
    "# correctly type the data\n",
    "\n",
    "acs_2021_race = acs_2021_race.astype({\n",
    "    'population': int,\n",
    "    'hispanic_pp': int,\n",
    "    'black_pp': int\n",
    "})\n",
    "\n",
    "# calcuscte hispanic & bscck population\n",
    "\n",
    "acs_2021_race['hispanic_pp_pct'] = acs_2021_race['hispanic_pp'] / acs_2021_race['population'] * 100\n",
    "acs_2021_race['black_pp_pct'] = acs_2021_race['black_pp'] / acs_2021_race['population'] * 100\n"
   ]
  },
  {
   "cell_type": "code",
   "execution_count": null,
   "metadata": {},
   "outputs": [],
   "source": [
    "acs_2021_race"
   ]
  },
  {
   "cell_type": "code",
   "execution_count": null,
   "metadata": {},
   "outputs": [],
   "source": [
    "# export census table to csv\n",
    "\n",
    "acs_2021_race.to_csv('./census_data/sc_census_2021.csv', index=False)"
   ]
  },
  {
   "cell_type": "markdown",
   "metadata": {},
   "source": [
    "## merge"
   ]
  },
  {
   "cell_type": "code",
   "execution_count": null,
   "metadata": {},
   "outputs": [],
   "source": [
    "# group by census tract to see mortgage count\n",
    "\n",
    "sc_tract_count_2021 = rm_sc_all_2021.groupby('census_tract').agg({\n",
    "    'lei':'count',\n",
    "    'tract_population': 'max',\n",
    "    'tract_minority_population_percent': 'min'\n",
    "    }).sort_values(by='lei', ascending=False).reset_index()\n",
    "\n",
    "# rename columns \n",
    "\n",
    "sc_tract_count_2021.columns = ['census_tract', 'rm_no', 'tract_population', 'minority_pct']\n",
    "\n",
    "# calcuscte mortgage count per 1000 people\n",
    "\n",
    "sc_tract_count_2021['rm_no_per1000'] = sc_tract_count_2021['rm_no'] / sc_tract_count_2021['tract_population'] * 1000 \n",
    "\n",
    "# sort by count per 1000 people \n",
    "\n",
    "sc_tract_count_2021 = sc_tract_count_2021.sort_values(by='rm_no_per1000', ascending=False).reset_index(drop=True)"
   ]
  },
  {
   "cell_type": "code",
   "execution_count": null,
   "metadata": {},
   "outputs": [],
   "source": [
    "# merge the census tract info and reverse mortgage info\n",
    "\n",
    "sc_rm_census = pd.merge(\n",
    "    sc_tract_count_2021,\n",
    "    acs_2021_race,\n",
    "    how='left',\n",
    "    on='census_tract',\n",
    "    validate='1:1'\n",
    ")"
   ]
  },
  {
   "cell_type": "code",
   "execution_count": null,
   "metadata": {},
   "outputs": [],
   "source": [
    "sc_rm_census.head(20)"
   ]
  },
  {
   "cell_type": "code",
   "execution_count": null,
   "metadata": {},
   "outputs": [],
   "source": [
    "no_geoid = sc_rm_census[sc_rm_census['geo_id'].isna()]\n",
    "no_geoid"
   ]
  },
  {
   "cell_type": "code",
   "execution_count": null,
   "metadata": {},
   "outputs": [],
   "source": [
    "# export to csv \n",
    "\n",
    "sc_rm_census.to_csv('./reverse_mortgage_data/sc_tract_count_2021_0710.csv', index=False)"
   ]
  }
 ],
 "metadata": {
  "interpreter": {
   "hash": "729323691b9d3b0133fc2c4519a59c3033bc08ff394458505088474ea1d4e0ba"
  },
  "kernelspec": {
   "display_name": "Python 3.9.4 64-bit ('j233-files-3.9.4')",
   "language": "python",
   "name": "python3"
  },
  "language_info": {
   "codemirror_mode": {
    "name": "ipython",
    "version": 3
   },
   "file_extension": ".py",
   "mimetype": "text/x-python",
   "name": "python",
   "nbconvert_exporter": "python",
   "pygments_lexer": "ipython3",
   "version": "3.9.4"
  },
  "orig_nbformat": 4
 },
 "nbformat": 4,
 "nbformat_minor": 2
}
