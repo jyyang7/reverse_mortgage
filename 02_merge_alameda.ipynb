{
 "cells": [
  {
   "cell_type": "code",
   "execution_count": null,
   "metadata": {},
   "outputs": [],
   "source": [
    "import pandas as pd\n",
    "pd.set_option('display.max_columns', None)"
   ]
  },
  {
   "attachments": {},
   "cell_type": "markdown",
   "metadata": {},
   "source": [
    "## read reverse mortgage data"
   ]
  },
  {
   "cell_type": "code",
   "execution_count": null,
   "metadata": {},
   "outputs": [],
   "source": [
    "alameda_rm_all = pd.read_csv('./reverse_mortgage_data/alameda_rm_all.csv', dtype={\n",
    "    'county_code': str,\n",
    "    'census_tract': str\n",
    "})\n",
    "alameda_rm_all.info()"
   ]
  },
  {
   "attachments": {},
   "cell_type": "markdown",
   "metadata": {},
   "source": [
    "## read census data and filter to county"
   ]
  },
  {
   "cell_type": "code",
   "execution_count": null,
   "metadata": {},
   "outputs": [],
   "source": [
    "census_all = pd.read_csv('./census_data/ACS2019_filtered0623.csv', dtype={\n",
    "    'census_tract': str,\n",
    "    'county_code': str,\n",
    "    'census_tract_np': str,\n",
    "    'census_tract_period': str\n",
    "})\n",
    "census_all.info()"
   ]
  },
  {
   "cell_type": "code",
   "execution_count": null,
   "metadata": {},
   "outputs": [],
   "source": [
    "census_alameda = census_all[census_all['county_code'] == '06001'].copy()"
   ]
  },
  {
   "cell_type": "code",
   "execution_count": null,
   "metadata": {},
   "outputs": [],
   "source": [
    "census_alameda.info()"
   ]
  },
  {
   "attachments": {},
   "cell_type": "markdown",
   "metadata": {},
   "source": [
    "## merge lender list"
   ]
  },
  {
   "cell_type": "code",
   "execution_count": null,
   "metadata": {},
   "outputs": [],
   "source": [
    "# read lender list\n",
    "\n",
    "lender_list_2018 = pd.read_csv('./raw_data/lei_agency_name_2018.csv')"
   ]
  },
  {
   "cell_type": "code",
   "execution_count": null,
   "metadata": {},
   "outputs": [],
   "source": [
    "lender_list_2018.info()"
   ]
  },
  {
   "cell_type": "code",
   "execution_count": null,
   "metadata": {},
   "outputs": [],
   "source": [
    "# merge by lei\n",
    "\n",
    "alameda_rm_all"
   ]
  },
  {
   "cell_type": "code",
   "execution_count": null,
   "metadata": {},
   "outputs": [],
   "source": [
    "lender_list_2018"
   ]
  },
  {
   "cell_type": "code",
   "execution_count": null,
   "metadata": {},
   "outputs": [],
   "source": [
    "alameda_rm_full = pd.merge(\n",
    "    alameda_rm_all,\n",
    "    lender_list_2018,\n",
    "    on='lei',\n",
    "    how='left',\n",
    "    validate='m:1'\n",
    ")"
   ]
  },
  {
   "cell_type": "code",
   "execution_count": null,
   "metadata": {},
   "outputs": [],
   "source": [
    "alameda_rm_full.info(verbose=True, show_counts=True)"
   ]
  },
  {
   "cell_type": "code",
   "execution_count": null,
   "metadata": {},
   "outputs": [],
   "source": [
    "alameda_rm_name = alameda_rm_full.drop(columns= ['activity_year_y', 'calendar_quarter', 'lar_count']).copy()"
   ]
  },
  {
   "cell_type": "code",
   "execution_count": null,
   "metadata": {},
   "outputs": [],
   "source": [
    "alameda_rm_name.head()"
   ]
  },
  {
   "attachments": {},
   "cell_type": "markdown",
   "metadata": {},
   "source": [
    "## group by census tracts"
   ]
  },
  {
   "cell_type": "code",
   "execution_count": null,
   "metadata": {},
   "outputs": [],
   "source": [
    "# filter by action_taken = 1\n",
    "\n",
    "alameda_rm_originated = alameda_rm_name[alameda_rm_name['action_taken'] == 1]"
   ]
  },
  {
   "cell_type": "code",
   "execution_count": null,
   "metadata": {},
   "outputs": [],
   "source": [
    "alameda_rm_originated.info(verbose=True, show_counts=True)"
   ]
  },
  {
   "cell_type": "code",
   "execution_count": null,
   "metadata": {},
   "outputs": [],
   "source": [
    "# group by census_tract\n",
    "\n",
    "alameda_census_counts = alameda_rm_originated.groupby(['census_tract']).count()"
   ]
  },
  {
   "cell_type": "code",
   "execution_count": null,
   "metadata": {},
   "outputs": [],
   "source": [
    "alameda_census_counts = alameda_census_counts[['lei']].copy()"
   ]
  },
  {
   "cell_type": "code",
   "execution_count": null,
   "metadata": {},
   "outputs": [],
   "source": [
    "alameda_census_counts = alameda_census_counts.reset_index()"
   ]
  },
  {
   "cell_type": "code",
   "execution_count": null,
   "metadata": {},
   "outputs": [],
   "source": [
    "alameda_census_counts = alameda_census_counts.sort_values(by=['lei'], ascending=False).copy()\n",
    "alameda_census_counts.rename(columns={'lei': 'rm_no'}, inplace=True)"
   ]
  },
  {
   "cell_type": "code",
   "execution_count": null,
   "metadata": {},
   "outputs": [],
   "source": [
    "alameda_census_counts = alameda_census_counts.reset_index(drop=True)"
   ]
  },
  {
   "cell_type": "code",
   "execution_count": null,
   "metadata": {},
   "outputs": [],
   "source": [
    "alameda_census_counts"
   ]
  },
  {
   "attachments": {},
   "cell_type": "markdown",
   "metadata": {},
   "source": [
    "## merge with census data"
   ]
  },
  {
   "cell_type": "code",
   "execution_count": null,
   "metadata": {},
   "outputs": [],
   "source": [
    "census_alameda"
   ]
  },
  {
   "cell_type": "code",
   "execution_count": null,
   "metadata": {},
   "outputs": [],
   "source": [
    "alameda_census_rm = pd.merge(\n",
    "    alameda_census_counts,\n",
    "    census_alameda,\n",
    "    on='census_tract',\n",
    "    how='left',\n",
    "    validate='1:1'\n",
    ")"
   ]
  },
  {
   "cell_type": "code",
   "execution_count": null,
   "metadata": {},
   "outputs": [],
   "source": [
    "alameda_census_rm.sample(10)"
   ]
  },
  {
   "cell_type": "code",
   "execution_count": null,
   "metadata": {},
   "outputs": [],
   "source": [
    "alameda_census_rm.info(verbose=True)"
   ]
  },
  {
   "cell_type": "code",
   "execution_count": null,
   "metadata": {},
   "outputs": [],
   "source": [
    "# subset to the columns that I need\n",
    "\n",
    "alameda_census_rm = alameda_census_rm[['census_tract', 'rm_no', 'county_code', 'county', 'state_code', 'census_tract_np', 'census_tract_period', 'total_population', '62yr_pp_pct', 'median_age', 'hispanic_pp_pct', 'non_hispanic_black_pp_pct']].copy()"
   ]
  },
  {
   "cell_type": "code",
   "execution_count": null,
   "metadata": {},
   "outputs": [],
   "source": [
    "alameda_census_rm"
   ]
  },
  {
   "cell_type": "code",
   "execution_count": null,
   "metadata": {},
   "outputs": [],
   "source": [
    "# calculate rm per 1000 people\n",
    "\n",
    "alameda_census_rm['_rm_per_1000'] = (\n",
    "    alameda_census_rm['rm_no'] / alameda_census_rm['total_population'] * 1000\n",
    ")"
   ]
  },
  {
   "cell_type": "code",
   "execution_count": null,
   "metadata": {},
   "outputs": [],
   "source": [
    "alameda_census_rm.info()"
   ]
  },
  {
   "cell_type": "code",
   "execution_count": null,
   "metadata": {},
   "outputs": [],
   "source": [
    "# get the column names\n",
    "\n",
    "cols = list(alameda_census_rm.columns.values)\n",
    "cols"
   ]
  },
  {
   "cell_type": "code",
   "execution_count": null,
   "metadata": {},
   "outputs": [],
   "source": [
    "# reorder the columns\n",
    "\n",
    "alameda_census_rm = alameda_census_rm[[\n",
    "    'census_tract', \n",
    "    '_rm_per_1000',\n",
    "    'rm_no',\n",
    "    'county_code',\n",
    "    'county',\n",
    "    'state_code',\n",
    "    'census_tract_np',\n",
    "    'census_tract_period',\n",
    "    'total_population',\n",
    "    '62yr_pp_pct',\n",
    "    'median_age',\n",
    "    'hispanic_pp_pct',\n",
    "    'non_hispanic_black_pp_pct',\n",
    " ]]"
   ]
  },
  {
   "cell_type": "code",
   "execution_count": null,
   "metadata": {},
   "outputs": [],
   "source": [
    "# sort by reverse mortgages originated per 1000 people\n",
    "\n",
    "alameda_census_rm.sort_values(by='_rm_per_1000', ascending=False)"
   ]
  },
  {
   "attachments": {},
   "cell_type": "markdown",
   "metadata": {},
   "source": [
    "## export to csv"
   ]
  },
  {
   "cell_type": "code",
   "execution_count": null,
   "metadata": {},
   "outputs": [],
   "source": [
    "alameda_census_rm.to_csv('./reverse_mortgage_data/alameda_census_rm.csv', index=False)"
   ]
  }
 ],
 "metadata": {
  "kernelspec": {
   "display_name": "base",
   "language": "python",
   "name": "python3"
  },
  "language_info": {
   "codemirror_mode": {
    "name": "ipython",
    "version": 3
   },
   "file_extension": ".py",
   "mimetype": "text/x-python",
   "name": "python",
   "nbconvert_exporter": "python",
   "pygments_lexer": "ipython3",
   "version": "3.10.9"
  },
  "orig_nbformat": 4
 },
 "nbformat": 4,
 "nbformat_minor": 2
}
