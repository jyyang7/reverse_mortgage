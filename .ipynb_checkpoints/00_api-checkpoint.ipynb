{
 "cells": [
  {
   "cell_type": "code",
   "execution_count": 1,
   "metadata": {},
   "outputs": [],
   "source": [
    "import pandas as pd\n",
    "import requests"
   ]
  },
  {
   "cell_type": "code",
   "execution_count": 31,
   "metadata": {},
   "outputs": [
    {
     "ename": "ValueError",
     "evalue": "Mixing dicts with non-Series may lead to ambiguous ordering.",
     "output_type": "error",
     "traceback": [
      "\u001b[0;31m---------------------------------------------------------------------------\u001b[0m",
      "\u001b[0;31mValueError\u001b[0m                                Traceback (most recent call last)",
      "Cell \u001b[0;32mIn [31], line 2\u001b[0m\n\u001b[1;32m      1\u001b[0m response \u001b[38;5;241m=\u001b[39m requests\u001b[38;5;241m.\u001b[39mget(\u001b[38;5;124m'\u001b[39m\u001b[38;5;124mhttps://ffiec.cfpb.gov/v2/data-browser-api/view/aggregations?counties=06037&years=2018&actions_taken=1&reverse_mortgage=1\u001b[39m\u001b[38;5;124m'\u001b[39m)\n\u001b[0;32m----> 2\u001b[0m df \u001b[38;5;241m=\u001b[39m pd\u001b[38;5;241m.\u001b[39mDataFrame(response\u001b[38;5;241m.\u001b[39mjson())\n\u001b[1;32m      3\u001b[0m df\u001b[38;5;241m.\u001b[39mhead()\n",
      "File \u001b[0;32m~/.pyenv/versions/3.9.4/envs/j233-files-3.9.4/lib/python3.9/site-packages/pandas/core/frame.py:663\u001b[0m, in \u001b[0;36mDataFrame.__init__\u001b[0;34m(self, data, index, columns, dtype, copy)\u001b[0m\n\u001b[1;32m    <a href='file:///Users/junyao/.pyenv/versions/3.9.4/envs/j233-files-3.9.4/lib/python3.9/site-packages/pandas/core/frame.py?line=656'>657</a>\u001b[0m     mgr \u001b[39m=\u001b[39m \u001b[39mself\u001b[39m\u001b[39m.\u001b[39m_init_mgr(\n\u001b[1;32m    <a href='file:///Users/junyao/.pyenv/versions/3.9.4/envs/j233-files-3.9.4/lib/python3.9/site-packages/pandas/core/frame.py?line=657'>658</a>\u001b[0m         data, axes\u001b[39m=\u001b[39m{\u001b[39m\"\u001b[39m\u001b[39mindex\u001b[39m\u001b[39m\"\u001b[39m: index, \u001b[39m\"\u001b[39m\u001b[39mcolumns\u001b[39m\u001b[39m\"\u001b[39m: columns}, dtype\u001b[39m=\u001b[39mdtype, copy\u001b[39m=\u001b[39mcopy\n\u001b[1;32m    <a href='file:///Users/junyao/.pyenv/versions/3.9.4/envs/j233-files-3.9.4/lib/python3.9/site-packages/pandas/core/frame.py?line=658'>659</a>\u001b[0m     )\n\u001b[1;32m    <a href='file:///Users/junyao/.pyenv/versions/3.9.4/envs/j233-files-3.9.4/lib/python3.9/site-packages/pandas/core/frame.py?line=660'>661</a>\u001b[0m \u001b[39melif\u001b[39;00m \u001b[39misinstance\u001b[39m(data, \u001b[39mdict\u001b[39m):\n\u001b[1;32m    <a href='file:///Users/junyao/.pyenv/versions/3.9.4/envs/j233-files-3.9.4/lib/python3.9/site-packages/pandas/core/frame.py?line=661'>662</a>\u001b[0m     \u001b[39m# GH#38939 de facto copy defaults to False only in non-dict cases\u001b[39;00m\n\u001b[0;32m--> <a href='file:///Users/junyao/.pyenv/versions/3.9.4/envs/j233-files-3.9.4/lib/python3.9/site-packages/pandas/core/frame.py?line=662'>663</a>\u001b[0m     mgr \u001b[39m=\u001b[39m dict_to_mgr(data, index, columns, dtype\u001b[39m=\u001b[39;49mdtype, copy\u001b[39m=\u001b[39;49mcopy, typ\u001b[39m=\u001b[39;49mmanager)\n\u001b[1;32m    <a href='file:///Users/junyao/.pyenv/versions/3.9.4/envs/j233-files-3.9.4/lib/python3.9/site-packages/pandas/core/frame.py?line=663'>664</a>\u001b[0m \u001b[39melif\u001b[39;00m \u001b[39misinstance\u001b[39m(data, ma\u001b[39m.\u001b[39mMaskedArray):\n\u001b[1;32m    <a href='file:///Users/junyao/.pyenv/versions/3.9.4/envs/j233-files-3.9.4/lib/python3.9/site-packages/pandas/core/frame.py?line=664'>665</a>\u001b[0m     \u001b[39mimport\u001b[39;00m \u001b[39mnumpy\u001b[39;00m\u001b[39m.\u001b[39;00m\u001b[39mma\u001b[39;00m\u001b[39m.\u001b[39;00m\u001b[39mmrecords\u001b[39;00m \u001b[39mas\u001b[39;00m \u001b[39mmrecords\u001b[39;00m\n",
      "File \u001b[0;32m~/.pyenv/versions/3.9.4/envs/j233-files-3.9.4/lib/python3.9/site-packages/pandas/core/internals/construction.py:494\u001b[0m, in \u001b[0;36mdict_to_mgr\u001b[0;34m(data, index, columns, dtype, typ, copy)\u001b[0m\n\u001b[1;32m    <a href='file:///Users/junyao/.pyenv/versions/3.9.4/envs/j233-files-3.9.4/lib/python3.9/site-packages/pandas/core/internals/construction.py?line=489'>490</a>\u001b[0m     \u001b[39melse\u001b[39;00m:\n\u001b[1;32m    <a href='file:///Users/junyao/.pyenv/versions/3.9.4/envs/j233-files-3.9.4/lib/python3.9/site-packages/pandas/core/internals/construction.py?line=490'>491</a>\u001b[0m         \u001b[39m# dtype check to exclude e.g. range objects, scalars\u001b[39;00m\n\u001b[1;32m    <a href='file:///Users/junyao/.pyenv/versions/3.9.4/envs/j233-files-3.9.4/lib/python3.9/site-packages/pandas/core/internals/construction.py?line=491'>492</a>\u001b[0m         arrays \u001b[39m=\u001b[39m [x\u001b[39m.\u001b[39mcopy() \u001b[39mif\u001b[39;00m \u001b[39mhasattr\u001b[39m(x, \u001b[39m\"\u001b[39m\u001b[39mdtype\u001b[39m\u001b[39m\"\u001b[39m) \u001b[39melse\u001b[39;00m x \u001b[39mfor\u001b[39;00m x \u001b[39min\u001b[39;00m arrays]\n\u001b[0;32m--> <a href='file:///Users/junyao/.pyenv/versions/3.9.4/envs/j233-files-3.9.4/lib/python3.9/site-packages/pandas/core/internals/construction.py?line=493'>494</a>\u001b[0m \u001b[39mreturn\u001b[39;00m arrays_to_mgr(arrays, columns, index, dtype\u001b[39m=\u001b[39;49mdtype, typ\u001b[39m=\u001b[39;49mtyp, consolidate\u001b[39m=\u001b[39;49mcopy)\n",
      "File \u001b[0;32m~/.pyenv/versions/3.9.4/envs/j233-files-3.9.4/lib/python3.9/site-packages/pandas/core/internals/construction.py:119\u001b[0m, in \u001b[0;36marrays_to_mgr\u001b[0;34m(arrays, columns, index, dtype, verify_integrity, typ, consolidate)\u001b[0m\n\u001b[1;32m    <a href='file:///Users/junyao/.pyenv/versions/3.9.4/envs/j233-files-3.9.4/lib/python3.9/site-packages/pandas/core/internals/construction.py?line=115'>116</a>\u001b[0m \u001b[39mif\u001b[39;00m verify_integrity:\n\u001b[1;32m    <a href='file:///Users/junyao/.pyenv/versions/3.9.4/envs/j233-files-3.9.4/lib/python3.9/site-packages/pandas/core/internals/construction.py?line=116'>117</a>\u001b[0m     \u001b[39m# figure out the index, if necessary\u001b[39;00m\n\u001b[1;32m    <a href='file:///Users/junyao/.pyenv/versions/3.9.4/envs/j233-files-3.9.4/lib/python3.9/site-packages/pandas/core/internals/construction.py?line=117'>118</a>\u001b[0m     \u001b[39mif\u001b[39;00m index \u001b[39mis\u001b[39;00m \u001b[39mNone\u001b[39;00m:\n\u001b[0;32m--> <a href='file:///Users/junyao/.pyenv/versions/3.9.4/envs/j233-files-3.9.4/lib/python3.9/site-packages/pandas/core/internals/construction.py?line=118'>119</a>\u001b[0m         index \u001b[39m=\u001b[39m _extract_index(arrays)\n\u001b[1;32m    <a href='file:///Users/junyao/.pyenv/versions/3.9.4/envs/j233-files-3.9.4/lib/python3.9/site-packages/pandas/core/internals/construction.py?line=119'>120</a>\u001b[0m     \u001b[39melse\u001b[39;00m:\n\u001b[1;32m    <a href='file:///Users/junyao/.pyenv/versions/3.9.4/envs/j233-files-3.9.4/lib/python3.9/site-packages/pandas/core/internals/construction.py?line=120'>121</a>\u001b[0m         index \u001b[39m=\u001b[39m ensure_index(index)\n",
      "File \u001b[0;32m~/.pyenv/versions/3.9.4/envs/j233-files-3.9.4/lib/python3.9/site-packages/pandas/core/internals/construction.py:670\u001b[0m, in \u001b[0;36m_extract_index\u001b[0;34m(data)\u001b[0m\n\u001b[1;32m    <a href='file:///Users/junyao/.pyenv/versions/3.9.4/envs/j233-files-3.9.4/lib/python3.9/site-packages/pandas/core/internals/construction.py?line=666'>667</a>\u001b[0m     \u001b[39mraise\u001b[39;00m \u001b[39mValueError\u001b[39;00m(\u001b[39m\"\u001b[39m\u001b[39mAll arrays must be of the same length\u001b[39m\u001b[39m\"\u001b[39m)\n\u001b[1;32m    <a href='file:///Users/junyao/.pyenv/versions/3.9.4/envs/j233-files-3.9.4/lib/python3.9/site-packages/pandas/core/internals/construction.py?line=668'>669</a>\u001b[0m \u001b[39mif\u001b[39;00m have_dicts:\n\u001b[0;32m--> <a href='file:///Users/junyao/.pyenv/versions/3.9.4/envs/j233-files-3.9.4/lib/python3.9/site-packages/pandas/core/internals/construction.py?line=669'>670</a>\u001b[0m     \u001b[39mraise\u001b[39;00m \u001b[39mValueError\u001b[39;00m(\n\u001b[1;32m    <a href='file:///Users/junyao/.pyenv/versions/3.9.4/envs/j233-files-3.9.4/lib/python3.9/site-packages/pandas/core/internals/construction.py?line=670'>671</a>\u001b[0m         \u001b[39m\"\u001b[39m\u001b[39mMixing dicts with non-Series may lead to ambiguous ordering.\u001b[39m\u001b[39m\"\u001b[39m\n\u001b[1;32m    <a href='file:///Users/junyao/.pyenv/versions/3.9.4/envs/j233-files-3.9.4/lib/python3.9/site-packages/pandas/core/internals/construction.py?line=671'>672</a>\u001b[0m     )\n\u001b[1;32m    <a href='file:///Users/junyao/.pyenv/versions/3.9.4/envs/j233-files-3.9.4/lib/python3.9/site-packages/pandas/core/internals/construction.py?line=673'>674</a>\u001b[0m \u001b[39mif\u001b[39;00m have_series:\n\u001b[1;32m    <a href='file:///Users/junyao/.pyenv/versions/3.9.4/envs/j233-files-3.9.4/lib/python3.9/site-packages/pandas/core/internals/construction.py?line=674'>675</a>\u001b[0m     \u001b[39massert\u001b[39;00m index \u001b[39mis\u001b[39;00m \u001b[39mnot\u001b[39;00m \u001b[39mNone\u001b[39;00m  \u001b[39m# for mypy\u001b[39;00m\n",
      "\u001b[0;31mValueError\u001b[0m: Mixing dicts with non-Series may lead to ambiguous ordering."
     ]
    }
   ],
   "source": [
    "response = requests.get('https://ffiec.cfpb.gov/v2/data-browser-api/view/aggregations?counties=06037&years=2018&actions_taken=1&reverse_mortgage=1')\n",
    "df = pd.DataFrame(response.json())\n",
    "df.head()"
   ]
  },
  {
   "cell_type": "code",
   "execution_count": 18,
   "metadata": {},
   "outputs": [
    {
     "data": {
      "text/plain": [
       "<Response [400]>"
      ]
     },
     "execution_count": 18,
     "metadata": {},
     "output_type": "execute_result"
    }
   ],
   "source": []
  },
  {
   "cell_type": "code",
   "execution_count": null,
   "metadata": {},
   "outputs": [],
   "source": []
  }
 ],
 "metadata": {
  "interpreter": {
   "hash": "729323691b9d3b0133fc2c4519a59c3033bc08ff394458505088474ea1d4e0ba"
  },
  "kernelspec": {
   "display_name": "Python 3.9.4 64-bit ('j233-files-3.9.4')",
   "language": "python",
   "name": "python3"
  },
  "language_info": {
   "codemirror_mode": {
    "name": "ipython",
    "version": 3
   },
   "file_extension": ".py",
   "mimetype": "text/x-python",
   "name": "python",
   "nbconvert_exporter": "python",
   "pygments_lexer": "ipython3",
   "version": "3.9.4"
  },
  "orig_nbformat": 4
 },
 "nbformat": 4,
 "nbformat_minor": 2
}
