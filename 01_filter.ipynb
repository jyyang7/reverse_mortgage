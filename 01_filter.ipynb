{
 "cells": [
  {
   "cell_type": "code",
   "execution_count": null,
   "metadata": {},
   "outputs": [],
   "source": [
    "import pandas as pd\n",
    "pd.set_option('display.max_columns', None)"
   ]
  },
  {
   "cell_type": "markdown",
   "metadata": {},
   "source": [
    "## Los Angeles County"
   ]
  },
  {
   "cell_type": "code",
   "execution_count": null,
   "metadata": {},
   "outputs": [],
   "source": [
    "la_hispanic_2021 = pd.read_csv('https://raw.githubusercontent.com/jyyang7/reverse_mortgage/main/all_mortgage_data/la_hispanic_2021.csv', dtype={\n",
    "    'county_code': str,\n",
    "    'census_tract': str\n",
    "})"
   ]
  },
  {
   "cell_type": "code",
   "execution_count": null,
   "metadata": {},
   "outputs": [],
   "source": [
    "rm_la_hispanic_2021 = la_hispanic_2021[(la_hispanic_2021['reverse_mortgage'] == 1)]\n",
    "rm_la_hispanic_2021"
   ]
  },
  {
   "cell_type": "code",
   "execution_count": null,
   "metadata": {},
   "outputs": [],
   "source": [
    "rm_la_hispanic_2021.to_csv('./reverse_mortgage_data/rm_la_hispanic_2021.csv', index=False)"
   ]
  },
  {
   "cell_type": "code",
   "execution_count": null,
   "metadata": {},
   "outputs": [],
   "source": [
    "#read csv\n",
    "\n",
    "la_all_2018 = pd.read_csv('./all_mortgage_data/la_all_2018.csv', dtype={\n",
    "    'county_code': str,\n",
    "    'census_tract': str\n",
    "})\n",
    "\n",
    "la_all_2019 = pd.read_csv('./all_mortgage_data/la_all_2019.csv', dtype={\n",
    "    'county_code': str,\n",
    "    'census_tract': str\n",
    "})\n",
    "\n",
    "la_all_2020 = pd.read_csv('./all_mortgage_data/la_all_2020.csv', dtype={\n",
    "    'county_code': str,\n",
    "    'census_tract': str\n",
    "})\n",
    "\n",
    "la_all_2021 = pd.read_csv('./all_mortgage_data/la_all_2021.csv', dtype={\n",
    "    'county_code': str,\n",
    "    'census_tract': str\n",
    "})"
   ]
  },
  {
   "cell_type": "code",
   "execution_count": null,
   "metadata": {},
   "outputs": [],
   "source": [
    "# filter to reverse mortgage\n",
    "\n",
    "rm_la_all_2018 = la_all_2018[(la_all_2018['reverse_mortgage'] == 1)]\n",
    "rm_la_all_2019 = la_all_2019[(la_all_2019['reverse_mortgage'] == 1)]\n",
    "rm_la_all_2020 = la_all_2020[(la_all_2020['reverse_mortgage'] == 1)]\n",
    "rm_la_all_2021 = la_all_2021[(la_all_2021['reverse_mortgage'] == 1)]"
   ]
  },
  {
   "cell_type": "code",
   "execution_count": null,
   "metadata": {},
   "outputs": [],
   "source": [
    "rm_la_all_2018.info()"
   ]
  },
  {
   "cell_type": "code",
   "execution_count": null,
   "metadata": {},
   "outputs": [],
   "source": [
    "rm_la_all_2019.info()"
   ]
  },
  {
   "cell_type": "code",
   "execution_count": null,
   "metadata": {},
   "outputs": [],
   "source": [
    "rm_la_all_2020.info()"
   ]
  },
  {
   "cell_type": "code",
   "execution_count": null,
   "metadata": {},
   "outputs": [],
   "source": [
    "rm_la_all_2021.info()"
   ]
  },
  {
   "cell_type": "code",
   "execution_count": null,
   "metadata": {},
   "outputs": [],
   "source": [
    "# concatenate 2018-2021 datasets\n",
    "\n",
    "rm_la_all = pd.concat((rm_la_all_2018, rm_la_all_2019, rm_la_all_2020, rm_la_all_2021), axis=0)"
   ]
  },
  {
   "cell_type": "code",
   "execution_count": null,
   "metadata": {},
   "outputs": [],
   "source": [
    "rm_la_all.sample(10)"
   ]
  },
  {
   "cell_type": "code",
   "execution_count": null,
   "metadata": {},
   "outputs": [],
   "source": [
    "# export to csv\n",
    "\n",
    "rm_la_all.to_csv('./reverse_mortgage_data/rm_la_all.csv', index=False)"
   ]
  },
  {
   "cell_type": "markdown",
   "metadata": {},
   "source": [
    "## Alameda County"
   ]
  },
  {
   "cell_type": "code",
   "execution_count": 20,
   "metadata": {},
   "outputs": [
    {
     "name": "stderr",
     "output_type": "stream",
     "text": [
      "/var/folders/br/8x3cfw457y1gzxfpj7108n100000gn/T/ipykernel_1600/3133540299.py:3: DtypeWarning: Columns (22,23,24,26,27,28,29,30,31,32,33,38,44) have mixed types. Specify dtype option on import or set low_memory=False.\n",
      "  alameda_all_2018 = pd.read_csv('./all_mortgage_data/alameda_all_2018.csv', dtype={\n",
      "/var/folders/br/8x3cfw457y1gzxfpj7108n100000gn/T/ipykernel_1600/3133540299.py:8: DtypeWarning: Columns (22,23,24,26,27,28,29,30,31,32,33,38,44) have mixed types. Specify dtype option on import or set low_memory=False.\n",
      "  alameda_all_2019 = pd.read_csv('./all_mortgage_data/alameda_all_2019.csv', dtype={\n",
      "/var/folders/br/8x3cfw457y1gzxfpj7108n100000gn/T/ipykernel_1600/3133540299.py:13: DtypeWarning: Columns (22,23,24,26,27,28,29,30,31,32,33,38,43,44) have mixed types. Specify dtype option on import or set low_memory=False.\n",
      "  alameda_all_2020 = pd.read_csv('./all_mortgage_data/alameda_all_2020.csv', dtype={\n",
      "/var/folders/br/8x3cfw457y1gzxfpj7108n100000gn/T/ipykernel_1600/3133540299.py:18: DtypeWarning: Columns (22,23,24,26,27,28,29,30,31,32,33,38,43,44) have mixed types. Specify dtype option on import or set low_memory=False.\n",
      "  alameda_all_2021 = pd.read_csv('./all_mortgage_data/alameda_all_2021.csv', dtype={\n"
     ]
    }
   ],
   "source": [
    "# read csv\n",
    "\n",
    "alameda_all_2018 = pd.read_csv('./all_mortgage_data/alameda_all_2018.csv', dtype={\n",
    "    'county_code': str,\n",
    "    'census_tract': str\n",
    "})\n",
    "\n",
    "alameda_all_2019 = pd.read_csv('./all_mortgage_data/alameda_all_2019.csv', dtype={\n",
    "    'county_code': str,\n",
    "    'census_tract': str\n",
    "})\n",
    "\n",
    "alameda_all_2020 = pd.read_csv('./all_mortgage_data/alameda_all_2020.csv', dtype={\n",
    "    'county_code': str,\n",
    "    'census_tract': str\n",
    "})\n",
    "\n",
    "alameda_all_2021 = pd.read_csv('./all_mortgage_data/alameda_all_2021.csv', dtype={\n",
    "    'county_code': str,\n",
    "    'census_tract': str\n",
    "})"
   ]
  },
  {
   "cell_type": "code",
   "execution_count": 21,
   "metadata": {},
   "outputs": [],
   "source": [
    "# filter to reverse mortgage\n",
    "\n",
    "alameda_rm_2018 = alameda_all_2018[(alameda_all_2018['reverse_mortgage'] == 1)]\n",
    "alameda_rm_2019 = alameda_all_2019[(alameda_all_2019['reverse_mortgage'] == 1)]\n",
    "alameda_rm_2020 = alameda_all_2020[(alameda_all_2020['reverse_mortgage'] == 1)]\n",
    "alameda_rm_2021 = alameda_all_2021[(alameda_all_2021['reverse_mortgage'] == 1)]"
   ]
  },
  {
   "cell_type": "code",
   "execution_count": 26,
   "metadata": {},
   "outputs": [
    {
     "name": "stdout",
     "output_type": "stream",
     "text": [
      "<class 'pandas.core.frame.DataFrame'>\n",
      "Int64Index: 3753 entries, 7166 to 144575\n",
      "Data columns (total 99 columns):\n",
      " #   Column                                    Non-Null Count  Dtype  \n",
      "---  ------                                    --------------  -----  \n",
      " 0   activity_year                             3753 non-null   int64  \n",
      " 1   lei                                       3753 non-null   object \n",
      " 2   derived_msa-md                            3753 non-null   int64  \n",
      " 3   state_code                                3753 non-null   object \n",
      " 4   county_code                               3753 non-null   object \n",
      " 5   census_tract                              3752 non-null   object \n",
      " 6   conforming_loan_limit                     3753 non-null   object \n",
      " 7   derived_loan_product_type                 3753 non-null   object \n",
      " 8   derived_dwelling_category                 3753 non-null   object \n",
      " 9   derived_ethnicity                         3753 non-null   object \n",
      " 10  derived_race                              3753 non-null   object \n",
      " 11  derived_sex                               3753 non-null   object \n",
      " 12  action_taken                              3753 non-null   int64  \n",
      " 13  purchaser_type                            3753 non-null   int64  \n",
      " 14  preapproval                               3753 non-null   int64  \n",
      " 15  loan_type                                 3753 non-null   int64  \n",
      " 16  loan_purpose                              3753 non-null   int64  \n",
      " 17  lien_status                               3753 non-null   int64  \n",
      " 18  reverse_mortgage                          3753 non-null   int64  \n",
      " 19  open-end_line_of_credit                   3753 non-null   int64  \n",
      " 20  business_or_commercial_purpose            3753 non-null   int64  \n",
      " 21  loan_amount                               3753 non-null   float64\n",
      " 22  loan_to_value_ratio                       74 non-null     object \n",
      " 23  interest_rate                             2803 non-null   object \n",
      " 24  rate_spread                               0 non-null      object \n",
      " 25  hoepa_status                              3753 non-null   int64  \n",
      " 26  total_loan_costs                          0 non-null      object \n",
      " 27  total_points_and_fees                     0 non-null      object \n",
      " 28  origination_charges                       0 non-null      object \n",
      " 29  discount_points                           0 non-null      object \n",
      " 30  lender_credits                            0 non-null      object \n",
      " 31  loan_term                                 0 non-null      object \n",
      " 32  prepayment_penalty_term                   0 non-null      object \n",
      " 33  intro_rate_period                         2017 non-null   object \n",
      " 34  negative_amortization                     3753 non-null   int64  \n",
      " 35  interest_only_payment                     3753 non-null   int64  \n",
      " 36  balloon_payment                           3753 non-null   int64  \n",
      " 37  other_nonamortizing_features              3753 non-null   int64  \n",
      " 38  property_value                            3174 non-null   object \n",
      " 39  construction_method                       3753 non-null   int64  \n",
      " 40  occupancy_type                            3753 non-null   int64  \n",
      " 41  manufactured_home_secured_property_type   3753 non-null   int64  \n",
      " 42  manufactured_home_land_property_interest  3753 non-null   int64  \n",
      " 43  total_units                               3753 non-null   object \n",
      " 44  multifamily_affordable_units              0 non-null      object \n",
      " 45  income                                    3079 non-null   float64\n",
      " 46  debt_to_income_ratio                      33 non-null     object \n",
      " 47  applicant_credit_score_type               3753 non-null   int64  \n",
      " 48  co-applicant_credit_score_type            3753 non-null   int64  \n",
      " 49  applicant_ethnicity-1                     3753 non-null   float64\n",
      " 50  applicant_ethnicity-2                     85 non-null     float64\n",
      " 51  applicant_ethnicity-3                     1 non-null      float64\n",
      " 52  applicant_ethnicity-4                     0 non-null      float64\n",
      " 53  applicant_ethnicity-5                     0 non-null      float64\n",
      " 54  co-applicant_ethnicity-1                  3753 non-null   float64\n",
      " 55  co-applicant_ethnicity-2                  39 non-null     float64\n",
      " 56  co-applicant_ethnicity-3                  1 non-null      float64\n",
      " 57  co-applicant_ethnicity-4                  1 non-null      float64\n",
      " 58  co-applicant_ethnicity-5                  0 non-null      float64\n",
      " 59  applicant_ethnicity_observed              3753 non-null   int64  \n",
      " 60  co-applicant_ethnicity_observed           3753 non-null   int64  \n",
      " 61  applicant_race-1                          3753 non-null   float64\n",
      " 62  applicant_race-2                          111 non-null    float64\n",
      " 63  applicant_race-3                          9 non-null      float64\n",
      " 64  applicant_race-4                          0 non-null      float64\n",
      " 65  applicant_race-5                          0 non-null      float64\n",
      " 66  co-applicant_race-1                       3753 non-null   float64\n",
      " 67  co-applicant_race-2                       51 non-null     float64\n",
      " 68  co-applicant_race-3                       3 non-null      float64\n",
      " 69  co-applicant_race-4                       1 non-null      float64\n",
      " 70  co-applicant_race-5                       0 non-null      float64\n",
      " 71  applicant_race_observed                   3753 non-null   int64  \n",
      " 72  co-applicant_race_observed                3753 non-null   int64  \n",
      " 73  applicant_sex                             3753 non-null   int64  \n",
      " 74  co-applicant_sex                          3753 non-null   int64  \n",
      " 75  applicant_sex_observed                    3753 non-null   int64  \n",
      " 76  co-applicant_sex_observed                 3753 non-null   int64  \n",
      " 77  applicant_age                             3753 non-null   object \n",
      " 78  co-applicant_age                          3753 non-null   object \n",
      " 79  applicant_age_above_62                    3088 non-null   object \n",
      " 80  co-applicant_age_above_62                 886 non-null    object \n",
      " 81  submission_of_application                 3753 non-null   int64  \n",
      " 82  initially_payable_to_institution          3753 non-null   int64  \n",
      " 83  aus-1                                     3753 non-null   int64  \n",
      " 84  aus-2                                     0 non-null      float64\n",
      " 85  aus-3                                     0 non-null      float64\n",
      " 86  aus-4                                     0 non-null      float64\n",
      " 87  aus-5                                     0 non-null      float64\n",
      " 88  denial_reason-1                           3753 non-null   int64  \n",
      " 89  denial_reason-2                           40 non-null     float64\n",
      " 90  denial_reason-3                           6 non-null      float64\n",
      " 91  denial_reason-4                           1 non-null      float64\n",
      " 92  tract_population                          3753 non-null   int64  \n",
      " 93  tract_minority_population_percent         3753 non-null   float64\n",
      " 94  ffiec_msa_md_median_family_income         3753 non-null   int64  \n",
      " 95  tract_to_msa_income_percentage            3753 non-null   int64  \n",
      " 96  tract_owner_occupied_units                3753 non-null   int64  \n",
      " 97  tract_one_to_four_family_homes            3753 non-null   int64  \n",
      " 98  tract_median_age_of_housing_units         3753 non-null   int64  \n",
      "dtypes: float64(30), int64(40), object(29)\n",
      "memory usage: 2.9+ MB\n"
     ]
    }
   ],
   "source": [
    "# concatenate 2018-2021 years\n",
    "\n",
    "alameda_rm_all = pd.concat((alameda_rm_2018, alameda_rm_2019, alameda_rm_2020, alameda_rm_2021), axis=0)\n",
    "alameda_rm_all.info()"
   ]
  },
  {
   "cell_type": "code",
   "execution_count": 27,
   "metadata": {},
   "outputs": [],
   "source": [
    "# export\n",
    "alameda_rm_all.to_csv('./reverse_mortgage_data/alameda_rm_all.csv', index=False)"
   ]
  },
  {
   "cell_type": "markdown",
   "metadata": {},
   "source": [
    "## Sacramento County"
   ]
  },
  {
   "cell_type": "markdown",
   "metadata": {},
   "source": []
  },
  {
   "cell_type": "markdown",
   "metadata": {},
   "source": [
    "## San Bernardino County"
   ]
  },
  {
   "cell_type": "markdown",
   "metadata": {},
   "source": []
  }
 ],
 "metadata": {
  "interpreter": {
   "hash": "729323691b9d3b0133fc2c4519a59c3033bc08ff394458505088474ea1d4e0ba"
  },
  "kernelspec": {
   "display_name": "Python 3.9.4 64-bit ('j233-files-3.9.4')",
   "language": "python",
   "name": "python3"
  },
  "language_info": {
   "codemirror_mode": {
    "name": "ipython",
    "version": 3
   },
   "file_extension": ".py",
   "mimetype": "text/x-python",
   "name": "python",
   "nbconvert_exporter": "python",
   "pygments_lexer": "ipython3",
   "version": "3.9.4"
  },
  "orig_nbformat": 4
 },
 "nbformat": 4,
 "nbformat_minor": 2
}
