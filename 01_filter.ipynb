{
 "cells": [
  {
   "cell_type": "code",
   "execution_count": null,
   "metadata": {},
   "outputs": [],
   "source": [
    "import pandas as pd\n",
    "pd.set_option('display.max_columns', None)"
   ]
  },
  {
   "cell_type": "markdown",
   "metadata": {},
   "source": [
    "## Los Angeles County"
   ]
  },
  {
   "cell_type": "code",
   "execution_count": null,
   "metadata": {},
   "outputs": [],
   "source": [
    "la_hispanic_2021 = pd.read_csv('https://raw.githubusercontent.com/jyyang7/reverse_mortgage/main/all_mortgage_data/la_hispanic_2021.csv', dtype={\n",
    "    'county_code': str,\n",
    "    'census_tract': str\n",
    "})"
   ]
  },
  {
   "cell_type": "code",
   "execution_count": null,
   "metadata": {},
   "outputs": [],
   "source": [
    "rm_la_hispanic_2021 = la_hispanic_2021[(la_hispanic_2021['reverse_mortgage'] == 1)]\n",
    "rm_la_hispanic_2021"
   ]
  },
  {
   "cell_type": "code",
   "execution_count": null,
   "metadata": {},
   "outputs": [],
   "source": [
    "rm_la_hispanic_2021.to_csv('./reverse_mortgage_data/rm_la_hispanic_2021.csv', index=False)"
   ]
  },
  {
   "cell_type": "code",
   "execution_count": null,
   "metadata": {},
   "outputs": [],
   "source": [
    "#read csv\n",
    "\n",
    "la_all_2018 = pd.read_csv('./all_mortgage_data/la_all_2018.csv', dtype={\n",
    "    'county_code': str,\n",
    "    'census_tract': str\n",
    "})\n",
    "\n",
    "la_all_2019 = pd.read_csv('./all_mortgage_data/la_all_2019.csv', dtype={\n",
    "    'county_code': str,\n",
    "    'census_tract': str\n",
    "})\n",
    "\n",
    "la_all_2020 = pd.read_csv('./all_mortgage_data/la_all_2020.csv', dtype={\n",
    "    'county_code': str,\n",
    "    'census_tract': str\n",
    "})\n",
    "\n",
    "la_all_2021 = pd.read_csv('./all_mortgage_data/la_all_2021.csv', dtype={\n",
    "    'county_code': str,\n",
    "    'census_tract': str\n",
    "})"
   ]
  },
  {
   "cell_type": "code",
   "execution_count": null,
   "metadata": {},
   "outputs": [],
   "source": [
    "# filter to reverse mortgage\n",
    "\n",
    "rm_la_all_2018 = la_all_2018[(la_all_2018['reverse_mortgage'] == 1)]\n",
    "rm_la_all_2019 = la_all_2019[(la_all_2019['reverse_mortgage'] == 1)]\n",
    "rm_la_all_2020 = la_all_2020[(la_all_2020['reverse_mortgage'] == 1)]\n",
    "rm_la_all_2021 = la_all_2021[(la_all_2021['reverse_mortgage'] == 1)]"
   ]
  },
  {
   "cell_type": "code",
   "execution_count": null,
   "metadata": {},
   "outputs": [],
   "source": [
    "rm_la_all_2018.info()"
   ]
  },
  {
   "cell_type": "code",
   "execution_count": null,
   "metadata": {},
   "outputs": [],
   "source": [
    "rm_la_all_2019.info()"
   ]
  },
  {
   "cell_type": "code",
   "execution_count": null,
   "metadata": {},
   "outputs": [],
   "source": [
    "rm_la_all_2020.info()"
   ]
  },
  {
   "cell_type": "code",
   "execution_count": null,
   "metadata": {},
   "outputs": [],
   "source": [
    "rm_la_all_2021.info()"
   ]
  },
  {
   "cell_type": "code",
   "execution_count": null,
   "metadata": {},
   "outputs": [],
   "source": [
    "# concatenate 2018-2021 datasets\n",
    "\n",
    "rm_la_all = pd.concat((rm_la_all_2018, rm_la_all_2019, rm_la_all_2020, rm_la_all_2021), axis=0)"
   ]
  },
  {
   "cell_type": "code",
   "execution_count": null,
   "metadata": {},
   "outputs": [],
   "source": [
    "rm_la_all.sample(10)"
   ]
  },
  {
   "cell_type": "code",
   "execution_count": null,
   "metadata": {},
   "outputs": [],
   "source": [
    "# export to csv\n",
    "\n",
    "rm_la_all.to_csv('./reverse_mortgage_data/rm_la_all.csv', index=False)"
   ]
  },
  {
   "cell_type": "markdown",
   "metadata": {},
   "source": [
    "## Alameda County"
   ]
  },
  {
   "cell_type": "code",
   "execution_count": null,
   "metadata": {},
   "outputs": [],
   "source": [
    "# read csv\n",
    "\n",
    "alameda_all_2018 = pd.read_csv('./all_mortgage_data/sac_all_2018.csv', dtype={\n",
    "    'county_code': str,\n",
    "    'census_tract': str\n",
    "})\n",
    "\n",
    "sac_all_2019 = pd.read_csv('./all_mortgage_data/alameda_all_2019.csv', dtype={\n",
    "    'county_code': str,\n",
    "    'census_tract': str\n",
    "})\n",
    "\n",
    "alameda_all_2020 = pd.read_csv('./all_mortgage_data/alameda_all_2020.csv', dtype={\n",
    "    'county_code': str,\n",
    "    'census_tract': str\n",
    "})\n",
    "\n",
    "alameda_all_2021 = pd.read_csv('./all_mortgage_data/alameda_all_2021.csv', dtype={\n",
    "    'county_code': str,\n",
    "    'census_tract': str\n",
    "})"
   ]
  },
  {
   "cell_type": "code",
   "execution_count": null,
   "metadata": {},
   "outputs": [],
   "source": [
    "# filter to reverse mortgage\n",
    "\n",
    "alameda_rm_2018 = alameda_all_2018[(alameda_all_2018['reverse_mortgage'] == 1)]\n",
    "alameda_rm_2019 = alameda_all_2019[(alameda_all_2019['reverse_mortgage'] == 1)]\n",
    "alameda_rm_2020 = alameda_all_2020[(alameda_all_2020['reverse_mortgage'] == 1)]\n",
    "alameda_rm_2021 = alameda_all_2021[(alameda_all_2021['reverse_mortgage'] == 1)]"
   ]
  },
  {
   "cell_type": "code",
   "execution_count": null,
   "metadata": {},
   "outputs": [],
   "source": [
    "# concatenate 2018-2021 years\n",
    "\n",
    "alameda_rm_all = pd.concat((alameda_rm_2018, alameda_rm_2019, alameda_rm_2020, alameda_rm_2021), axis=0)\n",
    "alameda_rm_all.info()"
   ]
  },
  {
   "cell_type": "code",
   "execution_count": null,
   "metadata": {},
   "outputs": [],
   "source": [
    "# export\n",
    "alameda_rm_all.to_csv('./reverse_mortgage_data/alameda_rm_all.csv', index=False)"
   ]
  },
  {
   "cell_type": "markdown",
   "metadata": {},
   "source": [
    "## Sacramento County"
   ]
  },
  {
   "cell_type": "code",
   "execution_count": null,
   "metadata": {},
   "outputs": [],
   "source": [
    "# read csv\n",
    "\n",
    "sac_all_2018 = pd.read_csv('./all_mortgage_data/sac_all_2018.csv', dtype={\n",
    "    'county_code': str,\n",
    "    'census_tract': str\n",
    "})\n",
    "\n",
    "sac_all_2019 = pd.read_csv('./all_mortgage_data/sac_all_2019.csv', dtype={\n",
    "    'county_code': str,\n",
    "    'census_tract': str\n",
    "})\n",
    "\n",
    "sac_all_2020 = pd.read_csv('./all_mortgage_data/sac_all_2020.csv', dtype={\n",
    "    'county_code': str,\n",
    "    'census_tract': str\n",
    "})\n",
    "\n",
    "sac_all_2021 = pd.read_csv('./all_mortgage_data/sac_all_2021.csv', dtype={\n",
    "    'county_code': str,\n",
    "    'census_tract': str\n",
    "})"
   ]
  },
  {
   "cell_type": "code",
   "execution_count": null,
   "metadata": {},
   "outputs": [],
   "source": [
    "# filter to reverse mortgage\n",
    "\n",
    "sac_rm_2018 = sac_all_2018[(sac_all_2018['reverse_mortgage'] == 1)]\n",
    "sac_rm_2019 = sac_all_2019[(sac_all_2019['reverse_mortgage'] == 1)]\n",
    "sac_rm_2020 = sac_all_2020[(sac_all_2020['reverse_mortgage'] == 1)]\n",
    "sac_rm_2021 = sac_all_2021[(sac_all_2021['reverse_mortgage'] == 1)]"
   ]
  },
  {
   "cell_type": "code",
   "execution_count": null,
   "metadata": {},
   "outputs": [],
   "source": [
    "# concatenate 2018-2021 years\n",
    "\n",
    "sac_rm_all = pd.concat((sac_rm_2018, sac_rm_2019, sac_rm_2020, sac_rm_2021), axis=0)\n",
    "sac_rm_all.info()"
   ]
  },
  {
   "cell_type": "code",
   "execution_count": null,
   "metadata": {},
   "outputs": [],
   "source": [
    "# export\n",
    "sac_rm_all.to_csv('./reverse_mortgage_data/sac_rm_all.csv', index=False)"
   ]
  },
  {
   "cell_type": "markdown",
   "metadata": {},
   "source": [
    "## San Bernardino County"
   ]
  },
  {
   "cell_type": "code",
   "execution_count": 36,
   "metadata": {},
   "outputs": [
    {
     "name": "stderr",
     "output_type": "stream",
     "text": [
      "/var/folders/br/8x3cfw457y1gzxfpj7108n100000gn/T/ipykernel_1600/1926770866.py:3: DtypeWarning: Columns (22,23,24,26,27,28,29,30,31,32,33,38,44) have mixed types. Specify dtype option on import or set low_memory=False.\n",
      "  san_bernardino_all_2018 = pd.read_csv('./all_mortgage_data/san_bernardino_all_2018.csv', dtype={\n",
      "/var/folders/br/8x3cfw457y1gzxfpj7108n100000gn/T/ipykernel_1600/1926770866.py:8: DtypeWarning: Columns (22,23,24,26,27,28,29,30,31,32,33,38,43,44) have mixed types. Specify dtype option on import or set low_memory=False.\n",
      "  san_bernardino_all_2019 = pd.read_csv('./all_mortgage_data/san_bernardino_all_2019.csv', dtype={\n",
      "/var/folders/br/8x3cfw457y1gzxfpj7108n100000gn/T/ipykernel_1600/1926770866.py:13: DtypeWarning: Columns (22,23,24,26,27,28,29,30,31,32,33,38,43,44) have mixed types. Specify dtype option on import or set low_memory=False.\n",
      "  san_bernardino_all_2020 = pd.read_csv('./all_mortgage_data/san_bernardino_all_2020.csv', dtype={\n",
      "/var/folders/br/8x3cfw457y1gzxfpj7108n100000gn/T/ipykernel_1600/1926770866.py:18: DtypeWarning: Columns (22,23,24,26,27,28,29,30,31,32,33,38,43,44) have mixed types. Specify dtype option on import or set low_memory=False.\n",
      "  san_bernardino_all_2021 = pd.read_csv('./all_mortgage_data/san_bernardino_all_2021.csv', dtype={\n"
     ]
    }
   ],
   "source": [
    "# read csv\n",
    "\n",
    "san_bernardino_all_2018 = pd.read_csv('./all_mortgage_data/san_bernardino_all_2018.csv', dtype={\n",
    "    'county_code': str,\n",
    "    'census_tract': str\n",
    "})\n",
    "\n",
    "san_bernardino_all_2019 = pd.read_csv('./all_mortgage_data/san_bernardino_all_2019.csv', dtype={\n",
    "    'county_code': str,\n",
    "    'census_tract': str\n",
    "})\n",
    "\n",
    "san_bernardino_all_2020 = pd.read_csv('./all_mortgage_data/san_bernardino_all_2020.csv', dtype={\n",
    "    'county_code': str,\n",
    "    'census_tract': str\n",
    "})\n",
    "\n",
    "san_bernardino_all_2021 = pd.read_csv('./all_mortgage_data/san_bernardino_all_2021.csv', dtype={\n",
    "    'county_code': str,\n",
    "    'census_tract': str\n",
    "})"
   ]
  },
  {
   "cell_type": "code",
   "execution_count": 37,
   "metadata": {},
   "outputs": [],
   "source": [
    "# filter to reverse mortgage\n",
    "\n",
    "san_bernardino_rm_2018 = san_bernardino_all_2018[(san_bernardino_all_2018['reverse_mortgage'] == 1)]\n",
    "san_bernardino_rm_2019 = san_bernardino_all_2019[(san_bernardino_all_2019['reverse_mortgage'] == 1)]\n",
    "san_bernardino_rm_2020 = san_bernardino_all_2020[(san_bernardino_all_2020['reverse_mortgage'] == 1)]\n",
    "san_bernardino_rm_2021 = san_bernardino_all_2021[(san_bernardino_all_2021['reverse_mortgage'] == 1)]"
   ]
  },
  {
   "cell_type": "code",
   "execution_count": 38,
   "metadata": {},
   "outputs": [
    {
     "name": "stdout",
     "output_type": "stream",
     "text": [
      "<class 'pandas.core.frame.DataFrame'>\n",
      "Int64Index: 4027 entries, 7682 to 203687\n",
      "Data columns (total 99 columns):\n",
      " #   Column                                    Non-Null Count  Dtype  \n",
      "---  ------                                    --------------  -----  \n",
      " 0   activity_year                             4027 non-null   int64  \n",
      " 1   lei                                       4027 non-null   object \n",
      " 2   derived_msa-md                            4027 non-null   int64  \n",
      " 3   state_code                                4027 non-null   object \n",
      " 4   county_code                               4027 non-null   object \n",
      " 5   census_tract                              4027 non-null   object \n",
      " 6   conforming_loan_limit                     4027 non-null   object \n",
      " 7   derived_loan_product_type                 4027 non-null   object \n",
      " 8   derived_dwelling_category                 4027 non-null   object \n",
      " 9   derived_ethnicity                         4027 non-null   object \n",
      " 10  derived_race                              4027 non-null   object \n",
      " 11  derived_sex                               4027 non-null   object \n",
      " 12  action_taken                              4027 non-null   int64  \n",
      " 13  purchaser_type                            4027 non-null   int64  \n",
      " 14  preapproval                               4027 non-null   int64  \n",
      " 15  loan_type                                 4027 non-null   int64  \n",
      " 16  loan_purpose                              4027 non-null   int64  \n",
      " 17  lien_status                               4027 non-null   int64  \n",
      " 18  reverse_mortgage                          4027 non-null   int64  \n",
      " 19  open-end_line_of_credit                   4027 non-null   int64  \n",
      " 20  business_or_commercial_purpose            4027 non-null   int64  \n",
      " 21  loan_amount                               4027 non-null   float64\n",
      " 22  loan_to_value_ratio                       143 non-null    object \n",
      " 23  interest_rate                             2880 non-null   object \n",
      " 24  rate_spread                               0 non-null      object \n",
      " 25  hoepa_status                              4027 non-null   int64  \n",
      " 26  total_loan_costs                          0 non-null      object \n",
      " 27  total_points_and_fees                     0 non-null      object \n",
      " 28  origination_charges                       0 non-null      object \n",
      " 29  discount_points                           0 non-null      object \n",
      " 30  lender_credits                            0 non-null      object \n",
      " 31  loan_term                                 0 non-null      object \n",
      " 32  prepayment_penalty_term                   0 non-null      object \n",
      " 33  intro_rate_period                         2268 non-null   object \n",
      " 34  negative_amortization                     4027 non-null   int64  \n",
      " 35  interest_only_payment                     4027 non-null   int64  \n",
      " 36  balloon_payment                           4027 non-null   int64  \n",
      " 37  other_nonamortizing_features              4027 non-null   int64  \n",
      " 38  property_value                            3301 non-null   object \n",
      " 39  construction_method                       4027 non-null   int64  \n",
      " 40  occupancy_type                            4027 non-null   int64  \n",
      " 41  manufactured_home_secured_property_type   4027 non-null   int64  \n",
      " 42  manufactured_home_land_property_interest  4027 non-null   int64  \n",
      " 43  total_units                               4027 non-null   object \n",
      " 44  multifamily_affordable_units              0 non-null      object \n",
      " 45  income                                    3266 non-null   float64\n",
      " 46  debt_to_income_ratio                      107 non-null    object \n",
      " 47  applicant_credit_score_type               4027 non-null   int64  \n",
      " 48  co-applicant_credit_score_type            4027 non-null   int64  \n",
      " 49  applicant_ethnicity-1                     4027 non-null   float64\n",
      " 50  applicant_ethnicity-2                     237 non-null    float64\n",
      " 51  applicant_ethnicity-3                     3 non-null      float64\n",
      " 52  applicant_ethnicity-4                     0 non-null      float64\n",
      " 53  applicant_ethnicity-5                     0 non-null      float64\n",
      " 54  co-applicant_ethnicity-1                  4027 non-null   float64\n",
      " 55  co-applicant_ethnicity-2                  108 non-null    float64\n",
      " 56  co-applicant_ethnicity-3                  0 non-null      float64\n",
      " 57  co-applicant_ethnicity-4                  0 non-null      float64\n",
      " 58  co-applicant_ethnicity-5                  0 non-null      float64\n",
      " 59  applicant_ethnicity_observed              4027 non-null   int64  \n",
      " 60  co-applicant_ethnicity_observed           4027 non-null   int64  \n",
      " 61  applicant_race-1                          4027 non-null   float64\n",
      " 62  applicant_race-2                          74 non-null     float64\n",
      " 63  applicant_race-3                          8 non-null      float64\n",
      " 64  applicant_race-4                          1 non-null      float64\n",
      " 65  applicant_race-5                          0 non-null      float64\n",
      " 66  co-applicant_race-1                       4027 non-null   float64\n",
      " 67  co-applicant_race-2                       33 non-null     float64\n",
      " 68  co-applicant_race-3                       3 non-null      float64\n",
      " 69  co-applicant_race-4                       1 non-null      float64\n",
      " 70  co-applicant_race-5                       0 non-null      float64\n",
      " 71  applicant_race_observed                   4027 non-null   int64  \n",
      " 72  co-applicant_race_observed                4027 non-null   int64  \n",
      " 73  applicant_sex                             4027 non-null   int64  \n",
      " 74  co-applicant_sex                          4027 non-null   int64  \n",
      " 75  applicant_sex_observed                    4027 non-null   int64  \n",
      " 76  co-applicant_sex_observed                 4027 non-null   int64  \n",
      " 77  applicant_age                             4027 non-null   object \n",
      " 78  co-applicant_age                          4027 non-null   object \n",
      " 79  applicant_age_above_62                    3282 non-null   object \n",
      " 80  co-applicant_age_above_62                 1274 non-null   object \n",
      " 81  submission_of_application                 4027 non-null   int64  \n",
      " 82  initially_payable_to_institution          4027 non-null   int64  \n",
      " 83  aus-1                                     4027 non-null   int64  \n",
      " 84  aus-2                                     1 non-null      float64\n",
      " 85  aus-3                                     1 non-null      float64\n",
      " 86  aus-4                                     1 non-null      float64\n",
      " 87  aus-5                                     1 non-null      float64\n",
      " 88  denial_reason-1                           4027 non-null   int64  \n",
      " 89  denial_reason-2                           37 non-null     float64\n",
      " 90  denial_reason-3                           1 non-null      float64\n",
      " 91  denial_reason-4                           0 non-null      float64\n",
      " 92  tract_population                          4027 non-null   int64  \n",
      " 93  tract_minority_population_percent         4027 non-null   float64\n",
      " 94  ffiec_msa_md_median_family_income         4027 non-null   int64  \n",
      " 95  tract_to_msa_income_percentage            4027 non-null   int64  \n",
      " 96  tract_owner_occupied_units                4027 non-null   int64  \n",
      " 97  tract_one_to_four_family_homes            4027 non-null   int64  \n",
      " 98  tract_median_age_of_housing_units         4027 non-null   int64  \n",
      "dtypes: float64(30), int64(40), object(29)\n",
      "memory usage: 3.1+ MB\n"
     ]
    }
   ],
   "source": [
    "# concatenate 2018-2021 years\n",
    "\n",
    "san_bernardino_rm_all = pd.concat((san_bernardino_rm_2018, san_bernardino_rm_2019, san_bernardino_rm_2020, san_bernardino_rm_2021), axis=0)\n",
    "san_bernardino_rm_all.info()"
   ]
  },
  {
   "cell_type": "code",
   "execution_count": 48,
   "metadata": {},
   "outputs": [],
   "source": [
    "# export\n",
    "san_bernardino_rm_all.to_csv('./reverse_mortgage_data/san_bernardino_rm_all.csv', index=False)"
   ]
  },
  {
   "cell_type": "markdown",
   "metadata": {},
   "source": [
    "## Riverside County"
   ]
  },
  {
   "cell_type": "code",
   "execution_count": 32,
   "metadata": {},
   "outputs": [
    {
     "name": "stderr",
     "output_type": "stream",
     "text": [
      "/var/folders/br/8x3cfw457y1gzxfpj7108n100000gn/T/ipykernel_1600/437556252.py:3: DtypeWarning: Columns (22,23,24,26,27,28,29,30,31,32,33,38,43,44) have mixed types. Specify dtype option on import or set low_memory=False.\n",
      "  riverside_all_2018 = pd.read_csv('./all_mortgage_data/riverside_all_2018.csv', dtype={\n",
      "/var/folders/br/8x3cfw457y1gzxfpj7108n100000gn/T/ipykernel_1600/437556252.py:8: DtypeWarning: Columns (22,23,24,26,27,28,29,30,31,32,33,38,43,44) have mixed types. Specify dtype option on import or set low_memory=False.\n",
      "  riverside_all_2019 = pd.read_csv('./all_mortgage_data/riverside_all_2019.csv', dtype={\n",
      "/var/folders/br/8x3cfw457y1gzxfpj7108n100000gn/T/ipykernel_1600/437556252.py:13: DtypeWarning: Columns (22,23,24,26,27,28,29,30,31,32,33,38,43,44) have mixed types. Specify dtype option on import or set low_memory=False.\n",
      "  riverside_all_2020 = pd.read_csv('./all_mortgage_data/riverside_all_2020.csv', dtype={\n",
      "/var/folders/br/8x3cfw457y1gzxfpj7108n100000gn/T/ipykernel_1600/437556252.py:18: DtypeWarning: Columns (22,23,24,26,27,28,29,30,31,32,33,38,43,44) have mixed types. Specify dtype option on import or set low_memory=False.\n",
      "  riverside_all_2021 = pd.read_csv('./all_mortgage_data/riverside_all_2021.csv', dtype={\n"
     ]
    }
   ],
   "source": [
    "# read csv\n",
    "\n",
    "riverside_all_2018 = pd.read_csv('./all_mortgage_data/riverside_all_2018.csv', dtype={\n",
    "    'county_code': str,\n",
    "    'census_tract': str\n",
    "})\n",
    "\n",
    "riverside_all_2019 = pd.read_csv('./all_mortgage_data/riverside_all_2019.csv', dtype={\n",
    "    'county_code': str,\n",
    "    'census_tract': str\n",
    "})\n",
    "\n",
    "riverside_all_2020 = pd.read_csv('./all_mortgage_data/riverside_all_2020.csv', dtype={\n",
    "    'county_code': str,\n",
    "    'census_tract': str\n",
    "})\n",
    "\n",
    "riverside_all_2021 = pd.read_csv('./all_mortgage_data/riverside_all_2021.csv', dtype={\n",
    "    'county_code': str,\n",
    "    'census_tract': str\n",
    "})"
   ]
  },
  {
   "cell_type": "code",
   "execution_count": 33,
   "metadata": {},
   "outputs": [],
   "source": [
    "# filter to reverse mortgage\n",
    "\n",
    "riverside_rm_2018 = riverside_all_2018[(riverside_all_2018['reverse_mortgage'] == 1)]\n",
    "riverside_rm_2019 = riverside_all_2019[(riverside_all_2019['reverse_mortgage'] == 1)]\n",
    "riverside_rm_2020 = riverside_all_2020[(riverside_all_2020['reverse_mortgage'] == 1)]\n",
    "riverside_rm_2021 = riverside_all_2021[(riverside_all_2021['reverse_mortgage'] == 1)]"
   ]
  },
  {
   "cell_type": "code",
   "execution_count": 34,
   "metadata": {},
   "outputs": [
    {
     "name": "stdout",
     "output_type": "stream",
     "text": [
      "<class 'pandas.core.frame.DataFrame'>\n",
      "Int64Index: 6809 entries, 9058 to 266593\n",
      "Data columns (total 99 columns):\n",
      " #   Column                                    Non-Null Count  Dtype  \n",
      "---  ------                                    --------------  -----  \n",
      " 0   activity_year                             6809 non-null   int64  \n",
      " 1   lei                                       6809 non-null   object \n",
      " 2   derived_msa-md                            6809 non-null   int64  \n",
      " 3   state_code                                6809 non-null   object \n",
      " 4   county_code                               6809 non-null   object \n",
      " 5   census_tract                              6807 non-null   object \n",
      " 6   conforming_loan_limit                     6809 non-null   object \n",
      " 7   derived_loan_product_type                 6809 non-null   object \n",
      " 8   derived_dwelling_category                 6809 non-null   object \n",
      " 9   derived_ethnicity                         6809 non-null   object \n",
      " 10  derived_race                              6809 non-null   object \n",
      " 11  derived_sex                               6809 non-null   object \n",
      " 12  action_taken                              6809 non-null   int64  \n",
      " 13  purchaser_type                            6809 non-null   int64  \n",
      " 14  preapproval                               6809 non-null   int64  \n",
      " 15  loan_type                                 6809 non-null   int64  \n",
      " 16  loan_purpose                              6809 non-null   int64  \n",
      " 17  lien_status                               6809 non-null   int64  \n",
      " 18  reverse_mortgage                          6809 non-null   int64  \n",
      " 19  open-end_line_of_credit                   6809 non-null   int64  \n",
      " 20  business_or_commercial_purpose            6809 non-null   int64  \n",
      " 21  loan_amount                               6809 non-null   float64\n",
      " 22  loan_to_value_ratio                       216 non-null    object \n",
      " 23  interest_rate                             4926 non-null   object \n",
      " 24  rate_spread                               0 non-null      object \n",
      " 25  hoepa_status                              6809 non-null   int64  \n",
      " 26  total_loan_costs                          0 non-null      object \n",
      " 27  total_points_and_fees                     0 non-null      object \n",
      " 28  origination_charges                       0 non-null      object \n",
      " 29  discount_points                           0 non-null      object \n",
      " 30  lender_credits                            0 non-null      object \n",
      " 31  loan_term                                 0 non-null      object \n",
      " 32  prepayment_penalty_term                   0 non-null      object \n",
      " 33  intro_rate_period                         4024 non-null   object \n",
      " 34  negative_amortization                     6809 non-null   int64  \n",
      " 35  interest_only_payment                     6809 non-null   int64  \n",
      " 36  balloon_payment                           6809 non-null   int64  \n",
      " 37  other_nonamortizing_features              6809 non-null   int64  \n",
      " 38  property_value                            5574 non-null   object \n",
      " 39  construction_method                       6809 non-null   int64  \n",
      " 40  occupancy_type                            6809 non-null   int64  \n",
      " 41  manufactured_home_secured_property_type   6809 non-null   int64  \n",
      " 42  manufactured_home_land_property_interest  6809 non-null   int64  \n",
      " 43  total_units                               6809 non-null   object \n",
      " 44  multifamily_affordable_units              0 non-null      object \n",
      " 45  income                                    5546 non-null   float64\n",
      " 46  debt_to_income_ratio                      180 non-null    object \n",
      " 47  applicant_credit_score_type               6809 non-null   int64  \n",
      " 48  co-applicant_credit_score_type            6809 non-null   int64  \n",
      " 49  applicant_ethnicity-1                     6808 non-null   float64\n",
      " 50  applicant_ethnicity-2                     222 non-null    float64\n",
      " 51  applicant_ethnicity-3                     3 non-null      float64\n",
      " 52  applicant_ethnicity-4                     0 non-null      float64\n",
      " 53  applicant_ethnicity-5                     0 non-null      float64\n",
      " 54  co-applicant_ethnicity-1                  6809 non-null   float64\n",
      " 55  co-applicant_ethnicity-2                  111 non-null    float64\n",
      " 56  co-applicant_ethnicity-3                  0 non-null      float64\n",
      " 57  co-applicant_ethnicity-4                  0 non-null      float64\n",
      " 58  co-applicant_ethnicity-5                  0 non-null      float64\n",
      " 59  applicant_ethnicity_observed              6809 non-null   int64  \n",
      " 60  co-applicant_ethnicity_observed           6809 non-null   int64  \n",
      " 61  applicant_race-1                          6808 non-null   float64\n",
      " 62  applicant_race-2                          87 non-null     float64\n",
      " 63  applicant_race-3                          7 non-null      float64\n",
      " 64  applicant_race-4                          1 non-null      float64\n",
      " 65  applicant_race-5                          1 non-null      float64\n",
      " 66  co-applicant_race-1                       6809 non-null   float64\n",
      " 67  co-applicant_race-2                       57 non-null     float64\n",
      " 68  co-applicant_race-3                       4 non-null      float64\n",
      " 69  co-applicant_race-4                       0 non-null      float64\n",
      " 70  co-applicant_race-5                       0 non-null      float64\n",
      " 71  applicant_race_observed                   6809 non-null   int64  \n",
      " 72  co-applicant_race_observed                6809 non-null   int64  \n",
      " 73  applicant_sex                             6809 non-null   int64  \n",
      " 74  co-applicant_sex                          6809 non-null   int64  \n",
      " 75  applicant_sex_observed                    6809 non-null   int64  \n",
      " 76  co-applicant_sex_observed                 6809 non-null   int64  \n",
      " 77  applicant_age                             6809 non-null   object \n",
      " 78  co-applicant_age                          6809 non-null   object \n",
      " 79  applicant_age_above_62                    5425 non-null   object \n",
      " 80  co-applicant_age_above_62                 2299 non-null   object \n",
      " 81  submission_of_application                 6809 non-null   int64  \n",
      " 82  initially_payable_to_institution          6809 non-null   int64  \n",
      " 83  aus-1                                     6809 non-null   int64  \n",
      " 84  aus-2                                     0 non-null      float64\n",
      " 85  aus-3                                     0 non-null      float64\n",
      " 86  aus-4                                     0 non-null      float64\n",
      " 87  aus-5                                     0 non-null      float64\n",
      " 88  denial_reason-1                           6809 non-null   int64  \n",
      " 89  denial_reason-2                           44 non-null     float64\n",
      " 90  denial_reason-3                           8 non-null      float64\n",
      " 91  denial_reason-4                           2 non-null      float64\n",
      " 92  tract_population                          6809 non-null   int64  \n",
      " 93  tract_minority_population_percent         6809 non-null   float64\n",
      " 94  ffiec_msa_md_median_family_income         6809 non-null   int64  \n",
      " 95  tract_to_msa_income_percentage            6809 non-null   int64  \n",
      " 96  tract_owner_occupied_units                6809 non-null   int64  \n",
      " 97  tract_one_to_four_family_homes            6809 non-null   int64  \n",
      " 98  tract_median_age_of_housing_units         6809 non-null   int64  \n",
      "dtypes: float64(30), int64(40), object(29)\n",
      "memory usage: 5.2+ MB\n"
     ]
    }
   ],
   "source": [
    "# concatenate 2018-2021 years\n",
    "\n",
    "riverside_rm_all = pd.concat((riverside_rm_2018, riverside_rm_2019, riverside_rm_2020, riverside_rm_2021), axis=0)\n",
    "riverside_rm_all.info()"
   ]
  },
  {
   "cell_type": "code",
   "execution_count": 35,
   "metadata": {},
   "outputs": [],
   "source": [
    "# export\n",
    "riverside_rm_all.to_csv('./reverse_mortgage_data/riverside_rm_all.csv', index=False)"
   ]
  },
  {
   "cell_type": "markdown",
   "metadata": {},
   "source": [
    "## Imperial County"
   ]
  },
  {
   "cell_type": "code",
   "execution_count": 39,
   "metadata": {},
   "outputs": [
    {
     "name": "stderr",
     "output_type": "stream",
     "text": [
      "/var/folders/br/8x3cfw457y1gzxfpj7108n100000gn/T/ipykernel_1600/2793598265.py:13: DtypeWarning: Columns (22,23,24,26,27,28,29,30,31,32,33,38,43,44) have mixed types. Specify dtype option on import or set low_memory=False.\n",
      "  imperial_all_2020 = pd.read_csv('./all_mortgage_data/imperial_all_2020.csv', dtype={\n",
      "/var/folders/br/8x3cfw457y1gzxfpj7108n100000gn/T/ipykernel_1600/2793598265.py:18: DtypeWarning: Columns (22,23,24,26,27,28,29,30,31,32,33,38,43,44) have mixed types. Specify dtype option on import or set low_memory=False.\n",
      "  imperial_all_2021 = pd.read_csv('./all_mortgage_data/imperial_all_2021.csv', dtype={\n"
     ]
    }
   ],
   "source": [
    "# read csv\n",
    "\n",
    "imperial_all_2018 = pd.read_csv('./all_mortgage_data/imperial_all_2018.csv', dtype={\n",
    "    'county_code': str,\n",
    "    'census_tract': str\n",
    "})\n",
    "\n",
    "imperial_all_2019 = pd.read_csv('./all_mortgage_data/imperial_all_2019.csv', dtype={\n",
    "    'county_code': str,\n",
    "    'census_tract': str\n",
    "})\n",
    "\n",
    "imperial_all_2020 = pd.read_csv('./all_mortgage_data/imperial_all_2020.csv', dtype={\n",
    "    'county_code': str,\n",
    "    'census_tract': str\n",
    "})\n",
    "\n",
    "imperial_all_2021 = pd.read_csv('./all_mortgage_data/imperial_all_2021.csv', dtype={\n",
    "    'county_code': str,\n",
    "    'census_tract': str\n",
    "})"
   ]
  },
  {
   "cell_type": "code",
   "execution_count": 40,
   "metadata": {},
   "outputs": [],
   "source": [
    "# filter to reverse mortgage\n",
    "\n",
    "imperial_rm_2018 = imperial_all_2018[(imperial_all_2018['reverse_mortgage'] == 1)]\n",
    "imperial_rm_2019 = imperial_all_2019[(imperial_all_2019['reverse_mortgage'] == 1)]\n",
    "imperial_rm_2020 = imperial_all_2020[(imperial_all_2020['reverse_mortgage'] == 1)]\n",
    "imperial_rm_2021 = imperial_all_2021[(imperial_all_2021['reverse_mortgage'] == 1)]\n"
   ]
  },
  {
   "cell_type": "code",
   "execution_count": 41,
   "metadata": {},
   "outputs": [
    {
     "name": "stdout",
     "output_type": "stream",
     "text": [
      "<class 'pandas.core.frame.DataFrame'>\n",
      "Int64Index: 112 entries, 1657 to 7996\n",
      "Data columns (total 99 columns):\n",
      " #   Column                                    Non-Null Count  Dtype  \n",
      "---  ------                                    --------------  -----  \n",
      " 0   activity_year                             112 non-null    int64  \n",
      " 1   lei                                       112 non-null    object \n",
      " 2   derived_msa-md                            112 non-null    int64  \n",
      " 3   state_code                                112 non-null    object \n",
      " 4   county_code                               112 non-null    object \n",
      " 5   census_tract                              112 non-null    object \n",
      " 6   conforming_loan_limit                     112 non-null    object \n",
      " 7   derived_loan_product_type                 112 non-null    object \n",
      " 8   derived_dwelling_category                 112 non-null    object \n",
      " 9   derived_ethnicity                         112 non-null    object \n",
      " 10  derived_race                              112 non-null    object \n",
      " 11  derived_sex                               112 non-null    object \n",
      " 12  action_taken                              112 non-null    int64  \n",
      " 13  purchaser_type                            112 non-null    int64  \n",
      " 14  preapproval                               112 non-null    int64  \n",
      " 15  loan_type                                 112 non-null    int64  \n",
      " 16  loan_purpose                              112 non-null    int64  \n",
      " 17  lien_status                               112 non-null    int64  \n",
      " 18  reverse_mortgage                          112 non-null    int64  \n",
      " 19  open-end_line_of_credit                   112 non-null    int64  \n",
      " 20  business_or_commercial_purpose            112 non-null    int64  \n",
      " 21  loan_amount                               112 non-null    float64\n",
      " 22  loan_to_value_ratio                       4 non-null      object \n",
      " 23  interest_rate                             47 non-null     object \n",
      " 24  rate_spread                               0 non-null      object \n",
      " 25  hoepa_status                              112 non-null    int64  \n",
      " 26  total_loan_costs                          0 non-null      object \n",
      " 27  total_points_and_fees                     0 non-null      object \n",
      " 28  origination_charges                       0 non-null      object \n",
      " 29  discount_points                           0 non-null      object \n",
      " 30  lender_credits                            0 non-null      object \n",
      " 31  loan_term                                 0 non-null      object \n",
      " 32  prepayment_penalty_term                   0 non-null      object \n",
      " 33  intro_rate_period                         38 non-null     object \n",
      " 34  negative_amortization                     112 non-null    int64  \n",
      " 35  interest_only_payment                     112 non-null    int64  \n",
      " 36  balloon_payment                           112 non-null    int64  \n",
      " 37  other_nonamortizing_features              112 non-null    int64  \n",
      " 38  property_value                            64 non-null     object \n",
      " 39  construction_method                       112 non-null    int64  \n",
      " 40  occupancy_type                            112 non-null    int64  \n",
      " 41  manufactured_home_secured_property_type   112 non-null    int64  \n",
      " 42  manufactured_home_land_property_interest  112 non-null    int64  \n",
      " 43  total_units                               112 non-null    object \n",
      " 44  multifamily_affordable_units              0 non-null      object \n",
      " 45  income                                    95 non-null     float64\n",
      " 46  debt_to_income_ratio                      2 non-null      object \n",
      " 47  applicant_credit_score_type               112 non-null    int64  \n",
      " 48  co-applicant_credit_score_type            112 non-null    int64  \n",
      " 49  applicant_ethnicity-1                     112 non-null    float64\n",
      " 50  applicant_ethnicity-2                     14 non-null     float64\n",
      " 51  applicant_ethnicity-3                     0 non-null      float64\n",
      " 52  applicant_ethnicity-4                     0 non-null      float64\n",
      " 53  applicant_ethnicity-5                     0 non-null      float64\n",
      " 54  co-applicant_ethnicity-1                  112 non-null    float64\n",
      " 55  co-applicant_ethnicity-2                  7 non-null      float64\n",
      " 56  co-applicant_ethnicity-3                  0 non-null      float64\n",
      " 57  co-applicant_ethnicity-4                  0 non-null      float64\n",
      " 58  co-applicant_ethnicity-5                  0 non-null      float64\n",
      " 59  applicant_ethnicity_observed              112 non-null    int64  \n",
      " 60  co-applicant_ethnicity_observed           112 non-null    int64  \n",
      " 61  applicant_race-1                          112 non-null    float64\n",
      " 62  applicant_race-2                          0 non-null      float64\n",
      " 63  applicant_race-3                          0 non-null      float64\n",
      " 64  applicant_race-4                          0 non-null      float64\n",
      " 65  applicant_race-5                          0 non-null      float64\n",
      " 66  co-applicant_race-1                       112 non-null    float64\n",
      " 67  co-applicant_race-2                       0 non-null      float64\n",
      " 68  co-applicant_race-3                       0 non-null      float64\n",
      " 69  co-applicant_race-4                       0 non-null      float64\n",
      " 70  co-applicant_race-5                       0 non-null      float64\n",
      " 71  applicant_race_observed                   112 non-null    int64  \n",
      " 72  co-applicant_race_observed                112 non-null    int64  \n",
      " 73  applicant_sex                             112 non-null    int64  \n",
      " 74  co-applicant_sex                          112 non-null    int64  \n",
      " 75  applicant_sex_observed                    112 non-null    int64  \n",
      " 76  co-applicant_sex_observed                 112 non-null    int64  \n",
      " 77  applicant_age                             112 non-null    object \n",
      " 78  co-applicant_age                          112 non-null    object \n",
      " 79  applicant_age_above_62                    59 non-null     object \n",
      " 80  co-applicant_age_above_62                 24 non-null     object \n",
      " 81  submission_of_application                 112 non-null    int64  \n",
      " 82  initially_payable_to_institution          112 non-null    int64  \n",
      " 83  aus-1                                     112 non-null    int64  \n",
      " 84  aus-2                                     0 non-null      float64\n",
      " 85  aus-3                                     0 non-null      float64\n",
      " 86  aus-4                                     0 non-null      float64\n",
      " 87  aus-5                                     0 non-null      float64\n",
      " 88  denial_reason-1                           112 non-null    int64  \n",
      " 89  denial_reason-2                           0 non-null      float64\n",
      " 90  denial_reason-3                           0 non-null      float64\n",
      " 91  denial_reason-4                           0 non-null      float64\n",
      " 92  tract_population                          112 non-null    int64  \n",
      " 93  tract_minority_population_percent         112 non-null    float64\n",
      " 94  ffiec_msa_md_median_family_income         112 non-null    int64  \n",
      " 95  tract_to_msa_income_percentage            112 non-null    int64  \n",
      " 96  tract_owner_occupied_units                112 non-null    int64  \n",
      " 97  tract_one_to_four_family_homes            112 non-null    int64  \n",
      " 98  tract_median_age_of_housing_units         112 non-null    int64  \n",
      "dtypes: float64(30), int64(40), object(29)\n",
      "memory usage: 87.5+ KB\n"
     ]
    }
   ],
   "source": [
    "# concatenate 2018-2021 years\n",
    "\n",
    "imperial_rm_all = pd.concat((imperial_rm_2018, imperial_rm_2019, imperial_rm_2020, imperial_rm_2021), axis=0)\n",
    "imperial_rm_all.info()"
   ]
  },
  {
   "cell_type": "code",
   "execution_count": 43,
   "metadata": {},
   "outputs": [],
   "source": [
    "# export\n",
    "imperial_rm_all.to_csv('./reverse_mortgage_data/imperial_rm_all.csv', index=False)\n"
   ]
  },
  {
   "cell_type": "markdown",
   "metadata": {},
   "source": [
    "## San Diego County"
   ]
  },
  {
   "cell_type": "code",
   "execution_count": 44,
   "metadata": {},
   "outputs": [
    {
     "name": "stderr",
     "output_type": "stream",
     "text": [
      "/var/folders/br/8x3cfw457y1gzxfpj7108n100000gn/T/ipykernel_1600/1313171944.py:3: DtypeWarning: Columns (22,23,24,26,27,28,29,30,31,32,33,38,43,44) have mixed types. Specify dtype option on import or set low_memory=False.\n",
      "  san_diego_all_2018 = pd.read_csv('./all_mortgage_data/san_diego_all_2018.csv', dtype={\n",
      "/var/folders/br/8x3cfw457y1gzxfpj7108n100000gn/T/ipykernel_1600/1313171944.py:8: DtypeWarning: Columns (22,23,24,26,27,28,29,30,31,32,33,38,43,44) have mixed types. Specify dtype option on import or set low_memory=False.\n",
      "  san_diego_all_2019 = pd.read_csv('./all_mortgage_data/san_diego_all_2019.csv', dtype={\n",
      "/var/folders/br/8x3cfw457y1gzxfpj7108n100000gn/T/ipykernel_1600/1313171944.py:13: DtypeWarning: Columns (22,23,24,26,27,28,29,30,31,32,33,38,43,44) have mixed types. Specify dtype option on import or set low_memory=False.\n",
      "  san_diego_all_2020 = pd.read_csv('./all_mortgage_data/san_diego_all_2020.csv', dtype={\n",
      "/var/folders/br/8x3cfw457y1gzxfpj7108n100000gn/T/ipykernel_1600/1313171944.py:18: DtypeWarning: Columns (22,23,24,26,27,28,29,30,31,32,33,38,43,44) have mixed types. Specify dtype option on import or set low_memory=False.\n",
      "  san_diego_all_2021 = pd.read_csv('./all_mortgage_data/san_diego_all_2021.csv', dtype={\n"
     ]
    }
   ],
   "source": [
    "# read csv\n",
    "\n",
    "san_diego_all_2018 = pd.read_csv('./all_mortgage_data/san_diego_all_2018.csv', dtype={\n",
    "    'county_code': str,\n",
    "    'census_tract': str\n",
    "})\n",
    "\n",
    "san_diego_all_2019 = pd.read_csv('./all_mortgage_data/san_diego_all_2019.csv', dtype={\n",
    "    'county_code': str,\n",
    "    'census_tract': str\n",
    "})\n",
    "\n",
    "san_diego_all_2020 = pd.read_csv('./all_mortgage_data/san_diego_all_2020.csv', dtype={\n",
    "    'county_code': str,\n",
    "    'census_tract': str\n",
    "})\n",
    "\n",
    "san_diego_all_2021 = pd.read_csv('./all_mortgage_data/san_diego_all_2021.csv', dtype={\n",
    "    'county_code': str,\n",
    "    'census_tract': str\n",
    "})"
   ]
  },
  {
   "cell_type": "code",
   "execution_count": 45,
   "metadata": {},
   "outputs": [],
   "source": [
    "# filter to reverse mortgage\n",
    "\n",
    "san_diego_rm_2018 = san_diego_all_2018[(san_diego_all_2018['reverse_mortgage'] == 1)]\n",
    "san_diego_rm_2019 = san_diego_all_2019[(san_diego_all_2019['reverse_mortgage'] == 1)]\n",
    "san_diego_rm_2020 = san_diego_all_2020[(san_diego_all_2020['reverse_mortgage'] == 1)]\n",
    "san_diego_rm_2021 = san_diego_all_2021[(san_diego_all_2021['reverse_mortgage'] == 1)]"
   ]
  },
  {
   "cell_type": "code",
   "execution_count": 46,
   "metadata": {},
   "outputs": [
    {
     "name": "stdout",
     "output_type": "stream",
     "text": [
      "<class 'pandas.core.frame.DataFrame'>\n",
      "Int64Index: 8741 entries, 12502 to 298149\n",
      "Data columns (total 99 columns):\n",
      " #   Column                                    Non-Null Count  Dtype  \n",
      "---  ------                                    --------------  -----  \n",
      " 0   activity_year                             8741 non-null   int64  \n",
      " 1   lei                                       8741 non-null   object \n",
      " 2   derived_msa-md                            8741 non-null   int64  \n",
      " 3   state_code                                8741 non-null   object \n",
      " 4   county_code                               8741 non-null   object \n",
      " 5   census_tract                              8741 non-null   object \n",
      " 6   conforming_loan_limit                     8741 non-null   object \n",
      " 7   derived_loan_product_type                 8741 non-null   object \n",
      " 8   derived_dwelling_category                 8741 non-null   object \n",
      " 9   derived_ethnicity                         8741 non-null   object \n",
      " 10  derived_race                              8741 non-null   object \n",
      " 11  derived_sex                               8741 non-null   object \n",
      " 12  action_taken                              8741 non-null   int64  \n",
      " 13  purchaser_type                            8741 non-null   int64  \n",
      " 14  preapproval                               8741 non-null   int64  \n",
      " 15  loan_type                                 8741 non-null   int64  \n",
      " 16  loan_purpose                              8741 non-null   int64  \n",
      " 17  lien_status                               8741 non-null   int64  \n",
      " 18  reverse_mortgage                          8741 non-null   int64  \n",
      " 19  open-end_line_of_credit                   8741 non-null   int64  \n",
      " 20  business_or_commercial_purpose            8741 non-null   int64  \n",
      " 21  loan_amount                               8741 non-null   float64\n",
      " 22  loan_to_value_ratio                       185 non-null    object \n",
      " 23  interest_rate                             6255 non-null   object \n",
      " 24  rate_spread                               0 non-null      object \n",
      " 25  hoepa_status                              8741 non-null   int64  \n",
      " 26  total_loan_costs                          0 non-null      object \n",
      " 27  total_points_and_fees                     0 non-null      object \n",
      " 28  origination_charges                       0 non-null      object \n",
      " 29  discount_points                           0 non-null      object \n",
      " 30  lender_credits                            0 non-null      object \n",
      " 31  loan_term                                 0 non-null      object \n",
      " 32  prepayment_penalty_term                   0 non-null      object \n",
      " 33  intro_rate_period                         4605 non-null   object \n",
      " 34  negative_amortization                     8741 non-null   int64  \n",
      " 35  interest_only_payment                     8741 non-null   int64  \n",
      " 36  balloon_payment                           8741 non-null   int64  \n",
      " 37  other_nonamortizing_features              8741 non-null   int64  \n",
      " 38  property_value                            6963 non-null   object \n",
      " 39  construction_method                       8741 non-null   int64  \n",
      " 40  occupancy_type                            8741 non-null   int64  \n",
      " 41  manufactured_home_secured_property_type   8741 non-null   int64  \n",
      " 42  manufactured_home_land_property_interest  8741 non-null   int64  \n",
      " 43  total_units                               8741 non-null   object \n",
      " 44  multifamily_affordable_units              0 non-null      object \n",
      " 45  income                                    7394 non-null   float64\n",
      " 46  debt_to_income_ratio                      133 non-null    object \n",
      " 47  applicant_credit_score_type               8741 non-null   int64  \n",
      " 48  co-applicant_credit_score_type            8741 non-null   int64  \n",
      " 49  applicant_ethnicity-1                     8741 non-null   float64\n",
      " 50  applicant_ethnicity-2                     196 non-null    float64\n",
      " 51  applicant_ethnicity-3                     3 non-null      float64\n",
      " 52  applicant_ethnicity-4                     0 non-null      float64\n",
      " 53  applicant_ethnicity-5                     0 non-null      float64\n",
      " 54  co-applicant_ethnicity-1                  8741 non-null   float64\n",
      " 55  co-applicant_ethnicity-2                  86 non-null     float64\n",
      " 56  co-applicant_ethnicity-3                  1 non-null      float64\n",
      " 57  co-applicant_ethnicity-4                  0 non-null      float64\n",
      " 58  co-applicant_ethnicity-5                  0 non-null      float64\n",
      " 59  applicant_ethnicity_observed              8741 non-null   int64  \n",
      " 60  co-applicant_ethnicity_observed           8741 non-null   int64  \n",
      " 61  applicant_race-1                          8740 non-null   float64\n",
      " 62  applicant_race-2                          142 non-null    float64\n",
      " 63  applicant_race-3                          16 non-null     float64\n",
      " 64  applicant_race-4                          2 non-null      float64\n",
      " 65  applicant_race-5                          0 non-null      float64\n",
      " 66  co-applicant_race-1                       8741 non-null   float64\n",
      " 67  co-applicant_race-2                       57 non-null     float64\n",
      " 68  co-applicant_race-3                       6 non-null      float64\n",
      " 69  co-applicant_race-4                       0 non-null      float64\n",
      " 70  co-applicant_race-5                       0 non-null      float64\n",
      " 71  applicant_race_observed                   8741 non-null   int64  \n",
      " 72  co-applicant_race_observed                8741 non-null   int64  \n",
      " 73  applicant_sex                             8741 non-null   int64  \n",
      " 74  co-applicant_sex                          8741 non-null   int64  \n",
      " 75  applicant_sex_observed                    8741 non-null   int64  \n",
      " 76  co-applicant_sex_observed                 8741 non-null   int64  \n",
      " 77  applicant_age                             8741 non-null   object \n",
      " 78  co-applicant_age                          8741 non-null   object \n",
      " 79  applicant_age_above_62                    6705 non-null   object \n",
      " 80  co-applicant_age_above_62                 2588 non-null   object \n",
      " 81  submission_of_application                 8741 non-null   int64  \n",
      " 82  initially_payable_to_institution          8741 non-null   int64  \n",
      " 83  aus-1                                     8741 non-null   int64  \n",
      " 84  aus-2                                     0 non-null      float64\n",
      " 85  aus-3                                     0 non-null      float64\n",
      " 86  aus-4                                     0 non-null      float64\n",
      " 87  aus-5                                     0 non-null      float64\n",
      " 88  denial_reason-1                           8741 non-null   int64  \n",
      " 89  denial_reason-2                           65 non-null     float64\n",
      " 90  denial_reason-3                           5 non-null      float64\n",
      " 91  denial_reason-4                           1 non-null      float64\n",
      " 92  tract_population                          8741 non-null   int64  \n",
      " 93  tract_minority_population_percent         8741 non-null   float64\n",
      " 94  ffiec_msa_md_median_family_income         8741 non-null   int64  \n",
      " 95  tract_to_msa_income_percentage            8741 non-null   int64  \n",
      " 96  tract_owner_occupied_units                8741 non-null   int64  \n",
      " 97  tract_one_to_four_family_homes            8741 non-null   int64  \n",
      " 98  tract_median_age_of_housing_units         8741 non-null   int64  \n",
      "dtypes: float64(30), int64(40), object(29)\n",
      "memory usage: 6.7+ MB\n"
     ]
    }
   ],
   "source": [
    "# concatenate 2018-2021 years\n",
    "\n",
    "san_diego_rm_all = pd.concat((san_diego_rm_2018, san_diego_rm_2019, san_diego_rm_2020, san_diego_rm_2021), axis=0)\n",
    "san_diego_rm_all.info()"
   ]
  },
  {
   "cell_type": "code",
   "execution_count": 47,
   "metadata": {},
   "outputs": [],
   "source": [
    "# export\n",
    "san_diego_rm_all.to_csv('./reverse_mortgage_data/san_diego_rm_all.csv', index=False)"
   ]
  },
  {
   "cell_type": "code",
   "execution_count": null,
   "metadata": {},
   "outputs": [],
   "source": []
  }
 ],
 "metadata": {
  "interpreter": {
   "hash": "729323691b9d3b0133fc2c4519a59c3033bc08ff394458505088474ea1d4e0ba"
  },
  "kernelspec": {
   "display_name": "Python 3.9.4 64-bit ('j233-files-3.9.4')",
   "language": "python",
   "name": "python3"
  },
  "language_info": {
   "codemirror_mode": {
    "name": "ipython",
    "version": 3
   },
   "file_extension": ".py",
   "mimetype": "text/x-python",
   "name": "python",
   "nbconvert_exporter": "python",
   "pygments_lexer": "ipython3",
   "version": "3.9.4"
  },
  "orig_nbformat": 4
 },
 "nbformat": 4,
 "nbformat_minor": 2
}
