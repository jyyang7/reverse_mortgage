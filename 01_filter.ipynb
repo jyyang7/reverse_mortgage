{
 "cells": [
  {
   "cell_type": "code",
   "execution_count": null,
   "metadata": {},
   "outputs": [],
   "source": [
    "import pandas as pd\n",
    "pd.set_option('display.max_columns', None)"
   ]
  },
  {
   "cell_type": "markdown",
   "metadata": {},
   "source": [
    "## Los Angeles County"
   ]
  },
  {
   "cell_type": "code",
   "execution_count": null,
   "metadata": {},
   "outputs": [],
   "source": [
    "la_hispanic_2021 = pd.read_csv('https://raw.githubusercontent.com/jyyang7/reverse_mortgage/main/all_mortgage_data/la_hispanic_2021.csv', dtype={\n",
    "    'county_code': str,\n",
    "    'census_tract': str\n",
    "})"
   ]
  },
  {
   "cell_type": "code",
   "execution_count": null,
   "metadata": {},
   "outputs": [],
   "source": [
    "rm_la_hispanic_2021 = la_hispanic_2021[(la_hispanic_2021['reverse_mortgage'] == 1)]\n",
    "rm_la_hispanic_2021"
   ]
  },
  {
   "cell_type": "code",
   "execution_count": null,
   "metadata": {},
   "outputs": [],
   "source": [
    "rm_la_hispanic_2021.to_csv('./reverse_mortgage_data/rm_la_hispanic_2021.csv', index=False)"
   ]
  },
  {
   "cell_type": "code",
   "execution_count": null,
   "metadata": {},
   "outputs": [],
   "source": [
    "#read csv\n",
    "\n",
    "la_all_2018 = pd.read_csv('./all_mortgage_data/la_all_2018.csv', dtype={\n",
    "    'county_code': str,\n",
    "    'census_tract': str\n",
    "})\n",
    "\n",
    "la_all_2019 = pd.read_csv('./all_mortgage_data/la_all_2019.csv', dtype={\n",
    "    'county_code': str,\n",
    "    'census_tract': str\n",
    "})\n",
    "\n",
    "la_all_2020 = pd.read_csv('./all_mortgage_data/la_all_2020.csv', dtype={\n",
    "    'county_code': str,\n",
    "    'census_tract': str\n",
    "})\n",
    "\n",
    "la_all_2021 = pd.read_csv('./all_mortgage_data/la_all_2021.csv', dtype={\n",
    "    'county_code': str,\n",
    "    'census_tract': str\n",
    "})"
   ]
  },
  {
   "cell_type": "code",
   "execution_count": null,
   "metadata": {},
   "outputs": [],
   "source": [
    "# filter to reverse mortgage\n",
    "\n",
    "rm_la_all_2018 = la_all_2018[(la_all_2018['reverse_mortgage'] == 1)]\n",
    "rm_la_all_2019 = la_all_2019[(la_all_2019['reverse_mortgage'] == 1)]\n",
    "rm_la_all_2020 = la_all_2020[(la_all_2020['reverse_mortgage'] == 1)]\n",
    "rm_la_all_2021 = la_all_2021[(la_all_2021['reverse_mortgage'] == 1)]"
   ]
  },
  {
   "cell_type": "code",
   "execution_count": null,
   "metadata": {},
   "outputs": [],
   "source": [
    "rm_la_all_2018.info()"
   ]
  },
  {
   "cell_type": "code",
   "execution_count": null,
   "metadata": {},
   "outputs": [],
   "source": [
    "rm_la_all_2019.info()"
   ]
  },
  {
   "cell_type": "code",
   "execution_count": null,
   "metadata": {},
   "outputs": [],
   "source": [
    "rm_la_all_2020.info()"
   ]
  },
  {
   "cell_type": "code",
   "execution_count": null,
   "metadata": {},
   "outputs": [],
   "source": [
    "rm_la_all_2021.info()"
   ]
  },
  {
   "cell_type": "code",
   "execution_count": null,
   "metadata": {},
   "outputs": [],
   "source": [
    "# concatenate 2018-2021 datasets\n",
    "\n",
    "rm_la_all = pd.concat((rm_la_all_2018, rm_la_all_2019, rm_la_all_2020, rm_la_all_2021), axis=0)"
   ]
  },
  {
   "cell_type": "code",
   "execution_count": null,
   "metadata": {},
   "outputs": [],
   "source": [
    "rm_la_all.sample(10)"
   ]
  },
  {
   "cell_type": "code",
   "execution_count": null,
   "metadata": {},
   "outputs": [],
   "source": [
    "# export to csv\n",
    "\n",
    "rm_la_all.to_csv('./reverse_mortgage_data/rm_la_all.csv', index=False)"
   ]
  },
  {
   "cell_type": "markdown",
   "metadata": {},
   "source": [
    "## Alameda County"
   ]
  },
  {
   "cell_type": "code",
   "execution_count": null,
   "metadata": {},
   "outputs": [],
   "source": [
    "# read csv\n",
    "\n",
    "alameda_all_2018 = pd.read_csv('./all_mortgage_data/sac_all_2018.csv', dtype={\n",
    "    'county_code': str,\n",
    "    'census_tract': str\n",
    "})\n",
    "\n",
    "sac_all_2019 = pd.read_csv('./all_mortgage_data/alameda_all_2019.csv', dtype={\n",
    "    'county_code': str,\n",
    "    'census_tract': str\n",
    "})\n",
    "\n",
    "alameda_all_2020 = pd.read_csv('./all_mortgage_data/alameda_all_2020.csv', dtype={\n",
    "    'county_code': str,\n",
    "    'census_tract': str\n",
    "})\n",
    "\n",
    "alameda_all_2021 = pd.read_csv('./all_mortgage_data/alameda_all_2021.csv', dtype={\n",
    "    'county_code': str,\n",
    "    'census_tract': str\n",
    "})"
   ]
  },
  {
   "cell_type": "code",
   "execution_count": null,
   "metadata": {},
   "outputs": [],
   "source": [
    "# filter to reverse mortgage\n",
    "\n",
    "alameda_rm_2018 = alameda_all_2018[(alameda_all_2018['reverse_mortgage'] == 1)]\n",
    "alameda_rm_2019 = alameda_all_2019[(alameda_all_2019['reverse_mortgage'] == 1)]\n",
    "alameda_rm_2020 = alameda_all_2020[(alameda_all_2020['reverse_mortgage'] == 1)]\n",
    "alameda_rm_2021 = alameda_all_2021[(alameda_all_2021['reverse_mortgage'] == 1)]"
   ]
  },
  {
   "cell_type": "code",
   "execution_count": null,
   "metadata": {},
   "outputs": [],
   "source": [
    "# concatenate 2018-2021 years\n",
    "\n",
    "alameda_rm_all = pd.concat((alameda_rm_2018, alameda_rm_2019, alameda_rm_2020, alameda_rm_2021), axis=0)\n",
    "alameda_rm_all.info()"
   ]
  },
  {
   "cell_type": "code",
   "execution_count": null,
   "metadata": {},
   "outputs": [],
   "source": [
    "# export\n",
    "alameda_rm_all.to_csv('./reverse_mortgage_data/alameda_rm_all.csv', index=False)"
   ]
  },
  {
   "cell_type": "markdown",
   "metadata": {},
   "source": [
    "## Sacramento County"
   ]
  },
  {
   "cell_type": "code",
   "execution_count": null,
   "metadata": {},
   "outputs": [],
   "source": [
    "# read csv\n",
    "\n",
    "sac_all_2018 = pd.read_csv('./all_mortgage_data/sac_all_2018.csv', dtype={\n",
    "    'county_code': str,\n",
    "    'census_tract': str\n",
    "})\n",
    "\n",
    "sac_all_2019 = pd.read_csv('./all_mortgage_data/sac_all_2019.csv', dtype={\n",
    "    'county_code': str,\n",
    "    'census_tract': str\n",
    "})\n",
    "\n",
    "sac_all_2020 = pd.read_csv('./all_mortgage_data/sac_all_2020.csv', dtype={\n",
    "    'county_code': str,\n",
    "    'census_tract': str\n",
    "})\n",
    "\n",
    "sac_all_2021 = pd.read_csv('./all_mortgage_data/sac_all_2021.csv', dtype={\n",
    "    'county_code': str,\n",
    "    'census_tract': str\n",
    "})"
   ]
  },
  {
   "cell_type": "code",
   "execution_count": null,
   "metadata": {},
   "outputs": [],
   "source": [
    "# filter to reverse mortgage\n",
    "\n",
    "sac_rm_2018 = sac_all_2018[(sac_all_2018['reverse_mortgage'] == 1)]\n",
    "sac_rm_2019 = sac_all_2019[(sac_all_2019['reverse_mortgage'] == 1)]\n",
    "sac_rm_2020 = sac_all_2020[(sac_all_2020['reverse_mortgage'] == 1)]\n",
    "sac_rm_2021 = sac_all_2021[(sac_all_2021['reverse_mortgage'] == 1)]"
   ]
  },
  {
   "cell_type": "code",
   "execution_count": null,
   "metadata": {},
   "outputs": [],
   "source": [
    "# concatenate 2018-2021 years\n",
    "\n",
    "sac_rm_all = pd.concat((sac_rm_2018, sac_rm_2019, sac_rm_2020, sac_rm_2021), axis=0)\n",
    "sac_rm_all.info()"
   ]
  },
  {
   "cell_type": "code",
   "execution_count": null,
   "metadata": {},
   "outputs": [],
   "source": [
    "# export\n",
    "sac_rm_all.to_csv('./reverse_mortgage_data/sac_rm_all.csv', index=False)"
   ]
  },
  {
   "cell_type": "code",
   "execution_count": null,
   "metadata": {},
   "outputs": [],
   "source": []
  },
  {
   "cell_type": "markdown",
   "metadata": {},
   "source": []
  },
  {
   "cell_type": "markdown",
   "metadata": {},
   "source": [
    "## San Bernardino County"
   ]
  },
  {
   "cell_type": "markdown",
   "metadata": {},
   "source": []
  }
 ],
 "metadata": {
  "interpreter": {
   "hash": "729323691b9d3b0133fc2c4519a59c3033bc08ff394458505088474ea1d4e0ba"
  },
  "kernelspec": {
   "display_name": "Python 3.9.4 64-bit ('j233-files-3.9.4')",
   "language": "python",
   "name": "python3"
  },
  "language_info": {
   "codemirror_mode": {
    "name": "ipython",
    "version": 3
   },
   "file_extension": ".py",
   "mimetype": "text/x-python",
   "name": "python",
   "nbconvert_exporter": "python",
   "pygments_lexer": "ipython3",
   "version": "3.9.4"
  },
  "orig_nbformat": 4
 },
 "nbformat": 4,
 "nbformat_minor": 2
}
